{
 "cells": [
  {
   "cell_type": "code",
   "execution_count": 1,
   "metadata": {
    "scrolled": false
   },
   "outputs": [
    {
     "data": {
      "application/vnd.jupyter.widget-view+json": {
       "model_id": "822afe2a22854838a8d79dde337f0aec",
       "version_major": 2,
       "version_minor": 0
      },
      "text/plain": [
       "VBox()"
      ]
     },
     "metadata": {},
     "output_type": "display_data"
    },
    {
     "name": "stdout",
     "output_type": "stream",
     "text": [
      "Starting Spark application\n"
     ]
    },
    {
     "data": {
      "text/html": [
       "<table>\n",
       "<tr><th>ID</th><th>YARN Application ID</th><th>Kind</th><th>State</th><th>Spark UI</th><th>Driver log</th><th>Current session?</th></tr><tr><td>0</td><td>application_1588441152808_0001</td><td>pyspark</td><td>idle</td><td><a target=\"_blank\" href=\"http://ip-172-31-82-94.ec2.internal:20888/proxy/application_1588441152808_0001/\">Link</a></td><td><a target=\"_blank\" href=\"http://ip-172-31-94-49.ec2.internal:8042/node/containerlogs/container_1588441152808_0001_01_000001/livy\">Link</a></td><td>✔</td></tr></table>"
      ],
      "text/plain": [
       "<IPython.core.display.HTML object>"
      ]
     },
     "metadata": {},
     "output_type": "display_data"
    },
    {
     "data": {
      "application/vnd.jupyter.widget-view+json": {
       "model_id": "",
       "version_major": 2,
       "version_minor": 0
      },
      "text/plain": [
       "FloatProgress(value=0.0, bar_style='info', description='Progress:', layout=Layout(height='25px', width='50%'),…"
      ]
     },
     "metadata": {},
     "output_type": "display_data"
    },
    {
     "name": "stdout",
     "output_type": "stream",
     "text": [
      "SparkSession available as 'spark'.\n"
     ]
    },
    {
     "data": {
      "application/vnd.jupyter.widget-view+json": {
       "model_id": "",
       "version_major": 2,
       "version_minor": 0
      },
      "text/plain": [
       "FloatProgress(value=0.0, bar_style='info', description='Progress:', layout=Layout(height='25px', width='50%'),…"
      ]
     },
     "metadata": {},
     "output_type": "display_data"
    },
    {
     "name": "stdout",
     "output_type": "stream",
     "text": [
      "<SparkContext master=yarn appName=livy-session-0>"
     ]
    }
   ],
   "source": [
    "sc"
   ]
  },
  {
   "cell_type": "code",
   "execution_count": 2,
   "metadata": {},
   "outputs": [
    {
     "name": "stdout",
     "output_type": "stream",
     "text": [
      "Starting Spark application\n"
     ]
    },
    {
     "data": {
      "text/html": [
       "<table>\n",
       "<tr><th>ID</th><th>YARN Application ID</th><th>Kind</th><th>State</th><th>Spark UI</th><th>Driver log</th><th>Current session?</th></tr><tr><td>1</td><td>application_1588441152808_0002</td><td>pyspark</td><td>idle</td><td><a target=\"_blank\" href=\"http://ip-172-31-82-94.ec2.internal:20888/proxy/application_1588441152808_0002/\">Link</a></td><td><a target=\"_blank\" href=\"http://ip-172-31-94-49.ec2.internal:8042/node/containerlogs/container_1588441152808_0002_01_000001/livy\">Link</a></td><td>✔</td></tr></table>"
      ],
      "text/plain": [
       "<IPython.core.display.HTML object>"
      ]
     },
     "metadata": {},
     "output_type": "display_data"
    },
    {
     "data": {
      "application/vnd.jupyter.widget-view+json": {
       "model_id": "",
       "version_major": 2,
       "version_minor": 0
      },
      "text/plain": [
       "FloatProgress(value=0.0, bar_style='info', description='Progress:', layout=Layout(height='25px', width='50%'),…"
      ]
     },
     "metadata": {},
     "output_type": "display_data"
    },
    {
     "name": "stdout",
     "output_type": "stream",
     "text": [
      "SparkSession available as 'spark'.\n"
     ]
    },
    {
     "data": {
      "text/html": [
       "Current session configs: <tt>{'conf': {'spark.pyspark.python': 'python3', 'spark.pyspark.virtualenv.enabled': 'true', 'spark.pyspark.virtualenv.type': 'native', 'spark.pyspark.virtualenv.bin.path': '/usr/bin/virtualenv'}, 'kind': 'pyspark'}</tt><br>"
      ],
      "text/plain": [
       "<IPython.core.display.HTML object>"
      ]
     },
     "metadata": {},
     "output_type": "display_data"
    },
    {
     "data": {
      "text/html": [
       "<table>\n",
       "<tr><th>ID</th><th>YARN Application ID</th><th>Kind</th><th>State</th><th>Spark UI</th><th>Driver log</th><th>Current session?</th></tr><tr><td>1</td><td>application_1588441152808_0002</td><td>pyspark</td><td>idle</td><td><a target=\"_blank\" href=\"http://ip-172-31-82-94.ec2.internal:20888/proxy/application_1588441152808_0002/\">Link</a></td><td><a target=\"_blank\" href=\"http://ip-172-31-94-49.ec2.internal:8042/node/containerlogs/container_1588441152808_0002_01_000001/livy\">Link</a></td><td>✔</td></tr></table>"
      ],
      "text/plain": [
       "<IPython.core.display.HTML object>"
      ]
     },
     "metadata": {},
     "output_type": "display_data"
    }
   ],
   "source": [
    "%%configure -f\n",
    "{ \"conf\":{\n",
    "\"spark.pyspark.python\": \"python3\",\n",
    "\"spark.pyspark.virtualenv.enabled\": \"true\",\n",
    "\"spark.pyspark.virtualenv.type\":\"native\",\n",
    "\"spark.pyspark.virtualenv.bin.path\":\"/usr/bin/virtualenv\"\n",
    "}}"
   ]
  },
  {
   "cell_type": "code",
   "execution_count": 72,
   "metadata": {},
   "outputs": [
    {
     "data": {
      "application/vnd.jupyter.widget-view+json": {
       "model_id": "ee2d7a450de343f3b6fc145afa6ee0f3",
       "version_major": 2,
       "version_minor": 0
      },
      "text/plain": [
       "VBox()"
      ]
     },
     "metadata": {},
     "output_type": "display_data"
    },
    {
     "data": {
      "application/vnd.jupyter.widget-view+json": {
       "model_id": "",
       "version_major": 2,
       "version_minor": 0
      },
      "text/plain": [
       "FloatProgress(value=0.0, bar_style='info', description='Progress:', layout=Layout(height='25px', width='50%'),…"
      ]
     },
     "metadata": {},
     "output_type": "display_data"
    }
   ],
   "source": [
    "# Cargo los datos desde el S3\n",
    "df=spark.read.csv('s3://marami26datasets/datasets/spark/Casos_positivos_de_COVID-19_en_Colombia.csv',inferSchema=True,header=True)"
   ]
  },
  {
   "cell_type": "code",
   "execution_count": 73,
   "metadata": {},
   "outputs": [
    {
     "data": {
      "application/vnd.jupyter.widget-view+json": {
       "model_id": "ece298ba1c9e4a28bed598e3bb68c1be",
       "version_major": 2,
       "version_minor": 0
      },
      "text/plain": [
       "VBox()"
      ]
     },
     "metadata": {},
     "output_type": "display_data"
    },
    {
     "data": {
      "application/vnd.jupyter.widget-view+json": {
       "model_id": "",
       "version_major": 2,
       "version_minor": 0
      },
      "text/plain": [
       "FloatProgress(value=0.0, bar_style='info', description='Progress:', layout=Layout(height='25px', width='50%'),…"
      ]
     },
     "metadata": {},
     "output_type": "display_data"
    },
    {
     "name": "stdout",
     "output_type": "stream",
     "text": [
      "['ID de caso', 'Fecha de notificación', 'Codigo DIVIPOLA', 'Ciudad de ubicación', 'Departamento o Distrito ', 'atención', 'Edad', 'Sexo', 'Tipo', 'Estado', 'País de procedencia', 'FIS', 'Fecha de muerte', 'Fecha diagnostico', 'Fecha recuperado', 'fecha reporte web']"
     ]
    }
   ],
   "source": [
    "############## Eliminacion de columnas #####################\n",
    "# Obtengo todas las columnas\n",
    "df.columns"
   ]
  },
  {
   "cell_type": "code",
   "execution_count": 74,
   "metadata": {},
   "outputs": [
    {
     "data": {
      "application/vnd.jupyter.widget-view+json": {
       "model_id": "d49bcaa7aa85417fb75b3b756316a4d8",
       "version_major": 2,
       "version_minor": 0
      },
      "text/plain": [
       "VBox()"
      ]
     },
     "metadata": {},
     "output_type": "display_data"
    },
    {
     "data": {
      "application/vnd.jupyter.widget-view+json": {
       "model_id": "",
       "version_major": 2,
       "version_minor": 0
      },
      "text/plain": [
       "FloatProgress(value=0.0, bar_style='info', description='Progress:', layout=Layout(height='25px', width='50%'),…"
      ]
     },
     "metadata": {},
     "output_type": "display_data"
    }
   ],
   "source": [
    "# Actualizo el dataFrame eliminando las columnas ['ID de caso', 'Codigo DIVIPOLA', 'FIS', 'fecha reporte web']\n",
    "df = df.select('Fecha de notificación', 'Ciudad de ubicación', 'Departamento o Distrito ', 'atención', 'Edad', 'Sexo', 'Tipo', 'Estado', 'País de procedencia', 'Fecha de muerte', 'Fecha diagnostico', 'Fecha recuperado')"
   ]
  },
  {
   "cell_type": "code",
   "execution_count": 75,
   "metadata": {},
   "outputs": [
    {
     "data": {
      "application/vnd.jupyter.widget-view+json": {
       "model_id": "1a60e3a2b4e74df28b05217d3825f554",
       "version_major": 2,
       "version_minor": 0
      },
      "text/plain": [
       "VBox()"
      ]
     },
     "metadata": {},
     "output_type": "display_data"
    },
    {
     "data": {
      "application/vnd.jupyter.widget-view+json": {
       "model_id": "",
       "version_major": 2,
       "version_minor": 0
      },
      "text/plain": [
       "FloatProgress(value=0.0, bar_style='info', description='Progress:', layout=Layout(height='25px', width='50%'),…"
      ]
     },
     "metadata": {},
     "output_type": "display_data"
    },
    {
     "name": "stdout",
     "output_type": "stream",
     "text": [
      "['Fecha de notificación', 'Ciudad de ubicación', 'Departamento o Distrito ', 'atención', 'Edad', 'Sexo', 'Tipo', 'Estado', 'País de procedencia', 'Fecha de muerte', 'Fecha diagnostico', 'Fecha recuperado']"
     ]
    }
   ],
   "source": [
    "# Obtengo todas las columnas\n",
    "df.columns"
   ]
  },
  {
   "cell_type": "code",
   "execution_count": 101,
   "metadata": {},
   "outputs": [
    {
     "data": {
      "application/vnd.jupyter.widget-view+json": {
       "model_id": "d341601297084c7999e3ba39d5e99dac",
       "version_major": 2,
       "version_minor": 0
      },
      "text/plain": [
       "VBox()"
      ]
     },
     "metadata": {},
     "output_type": "display_data"
    },
    {
     "data": {
      "application/vnd.jupyter.widget-view+json": {
       "model_id": "",
       "version_major": 2,
       "version_minor": 0
      },
      "text/plain": [
       "FloatProgress(value=0.0, bar_style='info', description='Progress:', layout=Layout(height='25px', width='50%'),…"
      ]
     },
     "metadata": {},
     "output_type": "display_data"
    },
    {
     "name": "stdout",
     "output_type": "stream",
     "text": [
      "Fecha de notificación = timestamp\n",
      "Fecha recuperado = string\n",
      "Fecha diagnostico = timestamp\n",
      "Fecha de muerte = string"
     ]
    }
   ],
   "source": [
    "############## Agregacion de columnas #####################\n",
    "# Obtengo los tipos de datos de las columnas que me interesan\n",
    "def get_dtype(df,colnames):\n",
    "    for colname in colnames:\n",
    "        print(colname+ \" = \"+[dtype for name, dtype in df.dtypes if name == colname][0])\n",
    "\n",
    "get_dtype(df,['Fecha de notificación','Fecha recuperado','Fecha diagnostico','Fecha de muerte'])"
   ]
  },
  {
   "cell_type": "code",
   "execution_count": 102,
   "metadata": {},
   "outputs": [
    {
     "data": {
      "application/vnd.jupyter.widget-view+json": {
       "model_id": "366b4d5bc214401795843be6052b8b33",
       "version_major": 2,
       "version_minor": 0
      },
      "text/plain": [
       "VBox()"
      ]
     },
     "metadata": {},
     "output_type": "display_data"
    },
    {
     "data": {
      "application/vnd.jupyter.widget-view+json": {
       "model_id": "",
       "version_major": 2,
       "version_minor": 0
      },
      "text/plain": [
       "FloatProgress(value=0.0, bar_style='info', description='Progress:', layout=Layout(height='25px', width='50%'),…"
      ]
     },
     "metadata": {},
     "output_type": "display_data"
    },
    {
     "name": "stdout",
     "output_type": "stream",
     "text": [
      "Fecha de notificación = timestamp\n",
      "Fecha recuperado = timestamp\n",
      "Fecha diagnostico = timestamp\n",
      "Fecha de muerte = timestamp"
     ]
    }
   ],
   "source": [
    "# Cambio el tipo de dato \"string\" a \"timestamp\" de las columnas [\"Fecha recuperado\", \"Fecha de muerte\"]\n",
    "df = df.withColumn('Fecha de muerte', col('Fecha de muerte').cast('timestamp'))\n",
    "df = df.withColumn('Fecha recuperado', col('Fecha recuperado').cast('timestamp'))\n",
    "get_dtype(df,['Fecha de notificación','Fecha recuperado','Fecha diagnostico','Fecha de muerte'])"
   ]
  },
  {
   "cell_type": "code",
   "execution_count": 127,
   "metadata": {},
   "outputs": [
    {
     "data": {
      "application/vnd.jupyter.widget-view+json": {
       "model_id": "74ebb481557147a1a9755d9f5f7788d3",
       "version_major": 2,
       "version_minor": 0
      },
      "text/plain": [
       "VBox()"
      ]
     },
     "metadata": {},
     "output_type": "display_data"
    },
    {
     "data": {
      "application/vnd.jupyter.widget-view+json": {
       "model_id": "",
       "version_major": 2,
       "version_minor": 0
      },
      "text/plain": [
       "FloatProgress(value=0.0, bar_style='info', description='Progress:', layout=Layout(height='25px', width='50%'),…"
      ]
     },
     "metadata": {},
     "output_type": "display_data"
    },
    {
     "name": "stdout",
     "output_type": "stream",
     "text": [
      "+----------+---------------------+-------------------+---------------+\n",
      "|atención  |Fecha de notificación|Fecha diagnostico  |Horas de espera|\n",
      "+----------+---------------------+-------------------+---------------+\n",
      "|Recuperado|2020-03-02 00:00:00  |2020-03-06 00:00:00|96.0           |\n",
      "|Recuperado|2020-03-06 00:00:00  |2020-03-09 00:00:00|72.0           |\n",
      "|Recuperado|2020-03-07 00:00:00  |2020-03-09 00:00:00|48.0           |\n",
      "|Recuperado|2020-03-09 00:00:00  |2020-03-11 00:00:00|48.0           |\n",
      "|Recuperado|2020-03-09 00:00:00  |2020-03-11 00:00:00|48.0           |\n",
      "|Recuperado|2020-03-10 00:00:00  |2020-03-11 00:00:00|24.0           |\n",
      "|Recuperado|2020-03-08 00:00:00  |2020-03-11 00:00:00|72.0           |\n",
      "|Recuperado|2020-03-09 00:00:00  |2020-03-11 00:00:00|48.0           |\n",
      "|Recuperado|2020-03-08 00:00:00  |2020-03-11 00:00:00|72.0           |\n",
      "|Recuperado|2020-03-12 00:00:00  |2020-03-12 00:00:00|0.0            |\n",
      "|Recuperado|2020-03-11 00:00:00  |2020-03-12 00:00:00|24.0           |\n",
      "|Recuperado|2020-03-10 00:00:00  |2020-03-12 00:00:00|48.0           |\n",
      "|Recuperado|2020-03-10 00:00:00  |2020-03-12 00:00:00|48.0           |\n",
      "|Recuperado|2020-03-10 00:00:00  |2020-03-13 00:00:00|72.0           |\n",
      "|Recuperado|2020-03-13 00:00:00  |2020-03-13 00:00:00|0.0            |\n",
      "|Recuperado|2020-03-11 00:00:00  |2020-03-13 00:00:00|48.0           |\n",
      "|Recuperado|2020-03-11 00:00:00  |2020-03-14 00:00:00|72.0           |\n",
      "|Recuperado|2020-03-11 00:00:00  |2020-03-14 00:00:00|72.0           |\n",
      "|Recuperado|2020-03-12 00:00:00  |2020-03-14 00:00:00|48.0           |\n",
      "|Recuperado|2020-03-11 00:00:00  |2020-03-14 00:00:00|72.0           |\n",
      "|Recuperado|2020-03-11 00:00:00  |2020-03-14 00:00:00|72.0           |\n",
      "|Recuperado|2020-03-12 00:00:00  |2020-03-14 00:00:00|48.0           |\n",
      "|Recuperado|2020-03-12 00:00:00  |2020-03-14 00:00:00|48.0           |\n",
      "|Recuperado|2020-03-12 00:00:00  |2020-03-14 00:00:00|48.0           |\n",
      "|Casa      |2020-03-13 00:00:00  |2020-03-13 00:00:00|0.0            |\n",
      "|Recuperado|2020-03-15 00:00:00  |2020-03-15 00:00:00|0.0            |\n",
      "|Recuperado|2020-03-15 00:00:00  |2020-03-15 00:00:00|0.0            |\n",
      "|Recuperado|2020-03-12 00:00:00  |2020-03-14 00:00:00|48.0           |\n",
      "|Recuperado|2020-03-12 00:00:00  |2020-03-12 00:00:00|0.0            |\n",
      "|Recuperado|2020-03-13 00:00:00  |2020-03-15 00:00:00|48.0           |\n",
      "|Recuperado|2020-03-12 00:00:00  |2020-03-13 00:00:00|24.0           |\n",
      "|Recuperado|2020-03-11 00:00:00  |2020-03-15 00:00:00|96.0           |\n",
      "|Recuperado|2020-03-13 00:00:00  |2020-03-15 00:00:00|48.0           |\n",
      "|Recuperado|2020-03-13 00:00:00  |2020-03-15 00:00:00|48.0           |\n",
      "|Recuperado|2020-03-12 00:00:00  |2020-03-14 00:00:00|48.0           |\n",
      "|Recuperado|2020-03-13 00:00:00  |2020-03-14 00:00:00|24.0           |\n",
      "|Recuperado|2020-03-13 00:00:00  |2020-03-14 00:00:00|24.0           |\n",
      "|Recuperado|2020-03-14 00:00:00  |2020-03-14 00:00:00|0.0            |\n",
      "|Recuperado|2020-03-13 00:00:00  |2020-03-14 00:00:00|24.0           |\n",
      "|Recuperado|2020-03-14 00:00:00  |2020-03-15 00:00:00|24.0           |\n",
      "|Recuperado|2020-03-14 00:00:00  |2020-03-14 00:00:00|0.0            |\n",
      "|Recuperado|2020-03-14 00:00:00  |2020-03-14 00:00:00|0.0            |\n",
      "|Recuperado|2020-03-14 00:00:00  |2020-03-14 00:00:00|0.0            |\n",
      "|Recuperado|2020-03-14 00:00:00  |2020-03-14 00:00:00|0.0            |\n",
      "|Recuperado|2020-03-15 00:00:00  |2020-03-15 00:00:00|0.0            |\n",
      "|Casa      |2020-03-13 00:00:00  |2020-03-15 00:00:00|48.0           |\n",
      "|Recuperado|2020-03-13 00:00:00  |2020-03-15 00:00:00|48.0           |\n",
      "|Recuperado|2020-03-15 00:00:00  |2020-03-16 00:00:00|24.0           |\n",
      "|Recuperado|2020-03-15 00:00:00  |2020-03-15 00:00:00|0.0            |\n",
      "|Recuperado|2020-03-14 00:00:00  |2020-03-15 00:00:00|24.0           |\n",
      "+----------+---------------------+-------------------+---------------+\n",
      "only showing top 50 rows"
     ]
    }
   ],
   "source": [
    "# Calculo la diferencia de tiempo entre \"Fecha diagnostico\" y \"Fecha de notificación\"\n",
    "# Agrego la nueva columna \"Horas de espera\" al dataFrame\n",
    "# \"Horas de espera\" representa la horas que pasan desde que se notifican los sintomas, hasta que se obtiene el diagnostico\n",
    " \n",
    "from pyspark.sql.functions import *\n",
    "\n",
    "diff_secs_col = col(\"Fecha diagnostico\").cast(\"long\") - col(\"Fecha de notificación\").cast(\"long\")\n",
    "df = df.withColumn( \"Horas de espera\", diff_secs_col/3600 )\n",
    "df.select('atención', \"Fecha de notificación\", 'Fecha diagnostico',\"Horas de espera\").show(50,truncate=False)"
   ]
  },
  {
   "cell_type": "code",
   "execution_count": 126,
   "metadata": {},
   "outputs": [
    {
     "data": {
      "application/vnd.jupyter.widget-view+json": {
       "model_id": "ddabed0a6ca443d388627c96c0c65d08",
       "version_major": 2,
       "version_minor": 0
      },
      "text/plain": [
       "VBox()"
      ]
     },
     "metadata": {},
     "output_type": "display_data"
    },
    {
     "data": {
      "application/vnd.jupyter.widget-view+json": {
       "model_id": "",
       "version_major": 2,
       "version_minor": 0
      },
      "text/plain": [
       "FloatProgress(value=0.0, bar_style='info', description='Progress:', layout=Layout(height='25px', width='50%'),…"
      ]
     },
     "metadata": {},
     "output_type": "display_data"
    },
    {
     "name": "stdout",
     "output_type": "stream",
     "text": [
      "+----------+-------------------+-------------------+---------------+\n",
      "|atención  |Fecha diagnostico  |Fecha recuperado   |Dias contagiado|\n",
      "+----------+-------------------+-------------------+---------------+\n",
      "|Recuperado|2020-03-06 00:00:00|2020-03-13 00:00:00|7.0            |\n",
      "|Recuperado|2020-03-09 00:00:00|2020-03-19 00:00:00|10.0           |\n",
      "|Recuperado|2020-03-09 00:00:00|2020-03-15 00:00:00|6.0            |\n",
      "|Recuperado|2020-03-11 00:00:00|2020-03-26 00:00:00|15.0           |\n",
      "|Recuperado|2020-03-11 00:00:00|2020-03-23 00:00:00|12.0           |\n",
      "|Recuperado|2020-03-11 00:00:00|2020-03-26 00:00:00|15.0           |\n",
      "|Recuperado|2020-03-11 00:00:00|2020-03-17 00:00:00|6.0            |\n",
      "|Recuperado|2020-03-11 00:00:00|2020-03-21 00:00:00|10.0           |\n",
      "|Recuperado|2020-03-11 00:00:00|2020-03-23 00:00:00|12.0           |\n",
      "|Recuperado|2020-03-12 00:00:00|2020-03-21 00:00:00|9.0            |\n",
      "|Recuperado|2020-03-12 00:00:00|2020-03-31 00:00:00|19.0           |\n",
      "|Recuperado|2020-03-12 00:00:00|2020-04-09 00:00:00|28.0           |\n",
      "|Recuperado|2020-03-12 00:00:00|2020-03-30 00:00:00|18.0           |\n",
      "|Recuperado|2020-03-13 00:00:00|2020-03-21 00:00:00|8.0            |\n",
      "|Recuperado|2020-03-13 00:00:00|2020-03-23 00:00:00|10.0           |\n",
      "|Recuperado|2020-03-13 00:00:00|2020-03-23 00:00:00|10.0           |\n",
      "|Recuperado|2020-03-14 00:00:00|2020-03-14 00:00:00|0.0            |\n",
      "|Recuperado|2020-03-14 00:00:00|2020-04-07 00:00:00|24.0           |\n",
      "|Recuperado|2020-03-14 00:00:00|2020-03-24 00:00:00|10.0           |\n",
      "|Recuperado|2020-03-14 00:00:00|2020-03-24 00:00:00|10.0           |\n",
      "|Recuperado|2020-03-14 00:00:00|2020-04-10 00:00:00|27.0           |\n",
      "|Recuperado|2020-03-14 00:00:00|2020-03-24 00:00:00|10.0           |\n",
      "|Recuperado|2020-03-14 00:00:00|2020-03-23 00:00:00|9.0            |\n",
      "|Recuperado|2020-03-14 00:00:00|2020-03-27 00:00:00|13.0           |\n",
      "|Casa      |2020-03-13 00:00:00|null               |null           |\n",
      "|Recuperado|2020-03-15 00:00:00|2020-03-25 00:00:00|10.0           |\n",
      "|Recuperado|2020-03-15 00:00:00|2020-03-25 00:00:00|10.0           |\n",
      "|Recuperado|2020-03-14 00:00:00|2020-04-08 00:00:00|25.0           |\n",
      "|Recuperado|2020-03-12 00:00:00|2020-03-25 00:00:00|13.0           |\n",
      "|Recuperado|2020-03-15 00:00:00|2020-03-25 00:00:00|10.0           |\n",
      "|Recuperado|2020-03-13 00:00:00|2020-03-26 00:00:00|13.0           |\n",
      "|Recuperado|2020-03-15 00:00:00|2020-03-25 00:00:00|10.0           |\n",
      "|Recuperado|2020-03-15 00:00:00|2020-04-21 00:00:00|37.0           |\n",
      "|Recuperado|2020-03-15 00:00:00|2020-03-26 00:00:00|11.0           |\n",
      "|Recuperado|2020-03-14 00:00:00|2020-03-26 00:00:00|12.0           |\n",
      "|Recuperado|2020-03-14 00:00:00|2020-03-27 00:00:00|13.0           |\n",
      "|Recuperado|2020-03-14 00:00:00|2020-03-27 00:00:00|13.0           |\n",
      "|Recuperado|2020-03-14 00:00:00|2020-03-28 00:00:00|14.0           |\n",
      "|Recuperado|2020-03-14 00:00:00|2020-03-22 00:00:00|8.0            |\n",
      "|Recuperado|2020-03-15 00:00:00|2020-03-28 00:00:00|13.0           |\n",
      "|Recuperado|2020-03-14 00:00:00|2020-03-28 00:00:00|14.0           |\n",
      "|Recuperado|2020-03-14 00:00:00|2020-03-24 00:00:00|10.0           |\n",
      "|Recuperado|2020-03-14 00:00:00|2020-03-24 00:00:00|10.0           |\n",
      "|Recuperado|2020-03-14 00:00:00|2020-03-24 00:00:00|10.0           |\n",
      "|Recuperado|2020-03-15 00:00:00|2020-04-05 00:00:00|21.0           |\n",
      "|Casa      |2020-03-15 00:00:00|null               |null           |\n",
      "|Recuperado|2020-03-15 00:00:00|2020-04-07 00:00:00|23.0           |\n",
      "|Recuperado|2020-03-16 00:00:00|2020-03-27 00:00:00|11.0           |\n",
      "|Recuperado|2020-03-15 00:00:00|2020-03-27 00:00:00|12.0           |\n",
      "|Recuperado|2020-03-15 00:00:00|2020-03-23 00:00:00|8.0            |\n",
      "+----------+-------------------+-------------------+---------------+\n",
      "only showing top 50 rows"
     ]
    }
   ],
   "source": [
    "# Calculo la diferencia de tiempo entre \"Fecha recuperado\" y \"Fecha diagnostico\"\n",
    "# Agrego la nueva columna \"Dias contagio\" al dataFrame\n",
    "# \"Dias contagio\" representa los dias que pasa un paciente contagiado hasta su recuperacion\n",
    "\n",
    "diff_secs_col = col('Fecha recuperado').cast(\"long\") - col(\"Fecha diagnostico\").cast(\"long\")\n",
    "df = df.withColumn( \"Dias contagiado\", diff_secs_col/86400 )\n",
    "df.select('atención', 'Fecha diagnostico', 'Fecha recuperado',\"Dias contagiado\").show(50,truncate=False)"
   ]
  },
  {
   "cell_type": "code",
   "execution_count": 131,
   "metadata": {},
   "outputs": [
    {
     "data": {
      "application/vnd.jupyter.widget-view+json": {
       "model_id": "bae31cda997f4d7596accf8471b67905",
       "version_major": 2,
       "version_minor": 0
      },
      "text/plain": [
       "VBox()"
      ]
     },
     "metadata": {},
     "output_type": "display_data"
    },
    {
     "data": {
      "application/vnd.jupyter.widget-view+json": {
       "model_id": "",
       "version_major": 2,
       "version_minor": 0
      },
      "text/plain": [
       "FloatProgress(value=0.0, bar_style='info', description='Progress:', layout=Layout(height='25px', width='50%'),…"
      ]
     },
     "metadata": {},
     "output_type": "display_data"
    },
    {
     "name": "stdout",
     "output_type": "stream",
     "text": [
      "+----+----+-------------------+----------+---------------+\n",
      "|Edad|Sexo|Ciudad de ubicación|atención  |Dias contagiado|\n",
      "+----+----+-------------------+----------+---------------+\n",
      "|19  |F   |Bogotá D.C.        |Recuperado|7.0            |\n",
      "|34  |M   |Guadalajara de Buga|Recuperado|10.0           |\n",
      "|50  |F   |Medellín           |Recuperado|6.0            |\n",
      "|55  |M   |Medellín           |Recuperado|15.0           |\n",
      "|25  |M   |Medellín           |Recuperado|12.0           |\n",
      "|27  |F   |Itagüí             |Recuperado|15.0           |\n",
      "|85  |F   |Cartagena de Indias|Recuperado|6.0            |\n",
      "|22  |F   |Bogotá D.C.        |Recuperado|10.0           |\n",
      "|28  |F   |Bogotá D.C.        |Recuperado|12.0           |\n",
      "|36  |F   |Bogotá D.C.        |Recuperado|9.0            |\n",
      "|42  |F   |Bogotá D.C.        |Recuperado|19.0           |\n",
      "|74  |F   |Neiva              |Recuperado|28.0           |\n",
      "|68  |F   |Neiva              |Recuperado|18.0           |\n",
      "|48  |M   |Palmira            |Recuperado|8.0            |\n",
      "|30  |F   |Villavicencio      |Recuperado|10.0           |\n",
      "|61  |F   |Bogotá D.C.        |Recuperado|10.0           |\n",
      "|54  |M   |Bogotá D.C.        |Recuperado|24.0           |\n",
      "|54  |F   |Bogotá D.C.        |Recuperado|10.0           |\n",
      "|26  |F   |Medellín           |Recuperado|10.0           |\n",
      "|28  |M   |Medellín           |Recuperado|27.0           |\n",
      "|36  |M   |Rionegro           |Recuperado|10.0           |\n",
      "|23  |M   |Bogotá D.C.        |Recuperado|9.0            |\n",
      "|18  |F   |Bogotá D.C.        |Recuperado|13.0           |\n",
      "|30  |F   |Cartagena de Indias|Recuperado|10.0           |\n",
      "|30  |F   |Cartagena de Indias|Recuperado|10.0           |\n",
      "|22  |M   |Dosquebradas       |Recuperado|25.0           |\n",
      "|55  |F   |Neiva              |Recuperado|13.0           |\n",
      "|48  |F   |Cúcuta             |Recuperado|10.0           |\n",
      "|65  |M   |Manizales          |Recuperado|13.0           |\n",
      "|55  |M   |Medellín           |Recuperado|10.0           |\n",
      "|59  |M   |Bogotá D.C.        |Recuperado|37.0           |\n",
      "|23  |F   |Bogotá D.C.        |Recuperado|11.0           |\n",
      "|54  |M   |Bogotá D.C.        |Recuperado|12.0           |\n",
      "|72  |M   |Bogotá D.C.        |Recuperado|13.0           |\n",
      "|45  |F   |Bogotá D.C.        |Recuperado|13.0           |\n",
      "|29  |M   |Bogotá D.C.        |Recuperado|14.0           |\n",
      "|21  |M   |Bogotá D.C.        |Recuperado|8.0            |\n",
      "|23  |F   |Bogotá D.C.        |Recuperado|13.0           |\n",
      "|79  |M   |Neiva              |Recuperado|14.0           |\n",
      "|52  |F   |Neiva              |Recuperado|10.0           |\n",
      "|71  |M   |Neiva              |Recuperado|10.0           |\n",
      "|24  |F   |Neiva              |Recuperado|10.0           |\n",
      "|29  |M   |Subachoque         |Recuperado|21.0           |\n",
      "|38  |M   |Bogotá D.C.        |Recuperado|23.0           |\n",
      "|31  |M   |Bogotá D.C.        |Recuperado|11.0           |\n",
      "|41  |F   |Bogotá D.C.        |Recuperado|12.0           |\n",
      "|67  |F   |Bogotá D.C.        |Recuperado|8.0            |\n",
      "|24  |M   |Soacha             |Recuperado|12.0           |\n",
      "|29  |M   |Bogotá D.C.        |Recuperado|9.0            |\n",
      "|62  |M   |Bogotá D.C.        |Recuperado|12.0           |\n",
      "+----+----+-------------------+----------+---------------+\n",
      "only showing top 50 rows"
     ]
    }
   ],
   "source": [
    "############## Filtrados de datos #####################\n",
    "# Filtro por paciente recuperado y\n",
    "# dias de contagio diferentes de cero, ya que significa que notifico una vez se habia recuperado\n",
    "df.filter((df['atención']=='Recuperado')&(df['Dias contagiado']!=0)).select('Edad', 'Sexo','Ciudad de ubicación','atención',\"Dias contagiado\").show(50,truncate=False)"
   ]
  },
  {
   "cell_type": "code",
   "execution_count": 134,
   "metadata": {},
   "outputs": [
    {
     "data": {
      "application/vnd.jupyter.widget-view+json": {
       "model_id": "0558203e34354164ac7c56b9fcd2fbab",
       "version_major": 2,
       "version_minor": 0
      },
      "text/plain": [
       "VBox()"
      ]
     },
     "metadata": {},
     "output_type": "display_data"
    },
    {
     "data": {
      "application/vnd.jupyter.widget-view+json": {
       "model_id": "",
       "version_major": 2,
       "version_minor": 0
      },
      "text/plain": [
       "FloatProgress(value=0.0, bar_style='info', description='Progress:', layout=Layout(height='25px', width='50%'),…"
      ]
     },
     "metadata": {},
     "output_type": "display_data"
    },
    {
     "name": "stdout",
     "output_type": "stream",
     "text": [
      "+----+----+-------------------+---------+-------------------+\n",
      "|Edad|Sexo|Ciudad de ubicación|atención |Fecha de muerte    |\n",
      "+----+----+-------------------+---------+-------------------+\n",
      "|80  |M   |San Francisco      |Fallecido|2020-04-24 00:00:00|\n",
      "|91  |F   |Medellín           |Fallecido|2020-04-03 00:00:00|\n",
      "|67  |M   |Medellín           |Fallecido|2020-04-18 00:00:00|\n",
      "|74  |M   |Medellín           |Fallecido|2020-04-27 00:00:00|\n",
      "|88  |F   |Bello              |Fallecido|2020-04-18 00:00:00|\n",
      "+----+----+-------------------+---------+-------------------+"
     ]
    }
   ],
   "source": [
    "# Filtro por departamento y Fallecidos\n",
    "# Para obtener los muertos en antioquia por causa del virus\n",
    "#df.columns\n",
    "df.filter((df['Departamento o Distrito ']=='Antioquia')&(df['atención']==\"Fallecido\")).select('Edad', 'Sexo','Ciudad de ubicación','atención', 'Fecha de muerte').show(50,truncate=False)"
   ]
  },
  {
   "cell_type": "code",
   "execution_count": 135,
   "metadata": {},
   "outputs": [
    {
     "data": {
      "application/vnd.jupyter.widget-view+json": {
       "model_id": "5045f5e268ef42628216bc6fcd3820f1",
       "version_major": 2,
       "version_minor": 0
      },
      "text/plain": [
       "VBox()"
      ]
     },
     "metadata": {},
     "output_type": "display_data"
    },
    {
     "data": {
      "application/vnd.jupyter.widget-view+json": {
       "model_id": "",
       "version_major": 2,
       "version_minor": 0
      },
      "text/plain": [
       "FloatProgress(value=0.0, bar_style='info', description='Progress:', layout=Layout(height='25px', width='50%'),…"
      ]
     },
     "metadata": {},
     "output_type": "display_data"
    },
    {
     "name": "stdout",
     "output_type": "stream",
     "text": [
      "+-------------------------------------------------------+-----+\n",
      "|Departamento o Distrito                                |count|\n",
      "+-------------------------------------------------------+-----+\n",
      "|Buenaventura D.E.                                      |34   |\n",
      "|Cundinamarca                                           |234  |\n",
      "|Antioquia                                              |475  |\n",
      "|Norte de Santander                                     |73   |\n",
      "|Santander                                              |40   |\n",
      "|Atlántico                                              |195  |\n",
      "|Casanare                                               |18   |\n",
      "|Huila                                                  |133  |\n",
      "|Bolívar                                                |24   |\n",
      "|Magdalena                                              |51   |\n",
      "|Valle del Cauca                                        |979  |\n",
      "|Cartagena D.T. y C.                                    |284  |\n",
      "|Risaralda                                              |203  |\n",
      "|Sucre                                                  |1    |\n",
      "|Archipiélago de San Andrés Providencia y Santa Catalina|6    |\n",
      "|La Guajira                                             |9    |\n",
      "|Tolima                                                 |87   |\n",
      "|Bogotá D.C.                                            |2772 |\n",
      "|Cauca                                                  |35   |\n",
      "|Quindio                                                |61   |\n",
      "|Meta                                                   |475  |\n",
      "|Amazonas                                               |105  |\n",
      "|Cesar                                                  |55   |\n",
      "|Córdoba                                                |29   |\n",
      "|Santa Marta D.T. y C.                                  |169  |\n",
      "|Chocó                                                  |13   |\n",
      "|Barranquilla D.E.                                      |168  |\n",
      "|Caquetá                                                |9    |\n",
      "|Boyacá                                                 |46   |\n",
      "|Caldas                                                 |69   |\n",
      "|Nariño                                                 |154  |\n",
      "+-------------------------------------------------------+-----+"
     ]
    }
   ],
   "source": [
    "############## Agrupacion y consulta categorica #####################\n",
    "# Numeros de casos por Departamento o distrito\n",
    "df.groupBy('Departamento o Distrito ').count().show(50,False)"
   ]
  },
  {
   "cell_type": "code",
   "execution_count": 145,
   "metadata": {},
   "outputs": [
    {
     "data": {
      "application/vnd.jupyter.widget-view+json": {
       "model_id": "253702c07b5845e6b3859bd98bfcb2a6",
       "version_major": 2,
       "version_minor": 0
      },
      "text/plain": [
       "VBox()"
      ]
     },
     "metadata": {},
     "output_type": "display_data"
    },
    {
     "data": {
      "application/vnd.jupyter.widget-view+json": {
       "model_id": "",
       "version_major": 2,
       "version_minor": 0
      },
      "text/plain": [
       "FloatProgress(value=0.0, bar_style='info', description='Progress:', layout=Layout(height='25px', width='50%'),…"
      ]
     },
     "metadata": {},
     "output_type": "display_data"
    },
    {
     "name": "stdout",
     "output_type": "stream",
     "text": [
      "+----+-----+\n",
      "|Edad|count|\n",
      "+----+-----+\n",
      "|85  |4    |\n",
      "|65  |11   |\n",
      "|53  |1    |\n",
      "|78  |4    |\n",
      "|81  |6    |\n",
      "|76  |10   |\n",
      "|26  |1    |\n",
      "|44  |4    |\n",
      "|91  |4    |\n",
      "|93  |1    |\n",
      "|47  |1    |\n",
      "|1   |2    |\n",
      "|52  |1    |\n",
      "|86  |3    |\n",
      "|3   |1    |\n",
      "|40  |2    |\n",
      "|20  |1    |\n",
      "|94  |2    |\n",
      "|57  |7    |\n",
      "|54  |3    |\n",
      "|96  |1    |\n",
      "|48  |4    |\n",
      "|19  |1    |\n",
      "|92  |1    |\n",
      "|64  |9    |\n",
      "|41  |1    |\n",
      "|43  |1    |\n",
      "|37  |2    |\n",
      "|61  |5    |\n",
      "|88  |4    |\n",
      "|72  |9    |\n",
      "|59  |5    |\n",
      "|55  |3    |\n",
      "|39  |2    |\n",
      "|49  |4    |\n",
      "|84  |2    |\n",
      "|87  |3    |\n",
      "|51  |2    |\n",
      "|69  |6    |\n",
      "|97  |2    |\n",
      "|63  |6    |\n",
      "|77  |4    |\n",
      "|50  |5    |\n",
      "|45  |1    |\n",
      "|38  |1    |\n",
      "|82  |5    |\n",
      "|80  |4    |\n",
      "|73  |12   |\n",
      "|25  |1    |\n",
      "|24  |1    |\n",
      "+----+-----+\n",
      "only showing top 50 rows"
     ]
    }
   ],
   "source": [
    "# Numeros de fallecidos por edad\n",
    "df.filter(df['atención']==\"Fallecido\").groupBy('Edad').count().show(50,False)"
   ]
  },
  {
   "cell_type": "code",
   "execution_count": 142,
   "metadata": {},
   "outputs": [
    {
     "data": {
      "application/vnd.jupyter.widget-view+json": {
       "model_id": "f56805bf52944877ac831aaee4d15a5d",
       "version_major": 2,
       "version_minor": 0
      },
      "text/plain": [
       "VBox()"
      ]
     },
     "metadata": {},
     "output_type": "display_data"
    },
    {
     "data": {
      "application/vnd.jupyter.widget-view+json": {
       "model_id": "",
       "version_major": 2,
       "version_minor": 0
      },
      "text/plain": [
       "FloatProgress(value=0.0, bar_style='info', description='Progress:', layout=Layout(height='25px', width='50%'),…"
      ]
     },
     "metadata": {},
     "output_type": "display_data"
    },
    {
     "name": "stdout",
     "output_type": "stream",
     "text": [
      "+----+-----+\n",
      "|Sexo|count|\n",
      "+----+-----+\n",
      "|F   |3249 |\n",
      "|M   |3757 |\n",
      "+----+-----+"
     ]
    }
   ],
   "source": [
    "# Numeros de contagios por genero\n",
    "df.groupBy('Sexo').count().show(50,False)"
   ]
  },
  {
   "cell_type": "code",
   "execution_count": 147,
   "metadata": {},
   "outputs": [
    {
     "data": {
      "application/vnd.jupyter.widget-view+json": {
       "model_id": "98dccf380b124ac1ab4e84d57e3277e3",
       "version_major": 2,
       "version_minor": 0
      },
      "text/plain": [
       "VBox()"
      ]
     },
     "metadata": {},
     "output_type": "display_data"
    },
    {
     "data": {
      "application/vnd.jupyter.widget-view+json": {
       "model_id": "",
       "version_major": 2,
       "version_minor": 0
      },
      "text/plain": [
       "FloatProgress(value=0.0, bar_style='info', description='Progress:', layout=Layout(height='25px', width='50%'),…"
      ]
     },
     "metadata": {},
     "output_type": "display_data"
    }
   ],
   "source": [
    "############## Grabo los resultados en mi bucket de S3 #####################\n",
    "# Direccion del bucket\n",
    "write_uri='s3://marami26datasets/lab4/df_csv'\n",
    "# Almacenamiento del dataFrame como un archivo csv\n",
    "df.coalesce(1).write.format(\"csv\").option(\"header\",\"true\").save(write_uri)"
   ]
  }
 ],
 "metadata": {
  "kernelspec": {
   "display_name": "PySpark",
   "language": "",
   "name": "pysparkkernel"
  },
  "language_info": {
   "codemirror_mode": {
    "name": "python",
    "version": 2
   },
   "mimetype": "text/x-python",
   "name": "pyspark",
   "pygments_lexer": "python2"
  }
 },
 "nbformat": 4,
 "nbformat_minor": 4
}
