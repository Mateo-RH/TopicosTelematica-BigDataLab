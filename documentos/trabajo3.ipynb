{
 "cells": [
  {
   "cell_type": "code",
   "execution_count": 137,
   "metadata": {},
   "outputs": [
    {
     "name": "stdout",
     "output_type": "stream",
     "text": [
      "Starting Spark application\n"
     ]
    },
    {
     "data": {
      "text/html": [
       "<table>\n",
       "<tr><th>ID</th><th>YARN Application ID</th><th>Kind</th><th>State</th><th>Spark UI</th><th>Driver log</th><th>Current session?</th></tr><tr><td>4</td><td>application_1589733083011_0005</td><td>pyspark</td><td>idle</td><td><a target=\"_blank\" href=\"http://ip-172-31-81-166.ec2.internal:20888/proxy/application_1589733083011_0005/\">Link</a></td><td><a target=\"_blank\" href=\"http://ip-172-31-85-11.ec2.internal:8042/node/containerlogs/container_1589733083011_0005_01_000001/livy\">Link</a></td><td>✔</td></tr></table>"
      ],
      "text/plain": [
       "<IPython.core.display.HTML object>"
      ]
     },
     "metadata": {},
     "output_type": "display_data"
    },
    {
     "data": {
      "application/vnd.jupyter.widget-view+json": {
       "model_id": "",
       "version_major": 2,
       "version_minor": 0
      },
      "text/plain": [
       "FloatProgress(value=0.0, bar_style='info', description='Progress:', layout=Layout(height='25px', width='50%'),…"
      ]
     },
     "metadata": {},
     "output_type": "display_data"
    },
    {
     "name": "stdout",
     "output_type": "stream",
     "text": [
      "SparkSession available as 'spark'.\n"
     ]
    },
    {
     "data": {
      "text/html": [
       "Current session configs: <tt>{'conf': {'spark.pyspark.python': 'python3', 'spark.pyspark.virtualenv.enabled': 'true', 'spark.pyspark.virtualenv.type': 'native', 'spark.pyspark.virtualenv.bin.path': '/usr/bin/virtualenv'}, 'kind': 'pyspark'}</tt><br>"
      ],
      "text/plain": [
       "<IPython.core.display.HTML object>"
      ]
     },
     "metadata": {},
     "output_type": "display_data"
    },
    {
     "data": {
      "text/html": [
       "<table>\n",
       "<tr><th>ID</th><th>YARN Application ID</th><th>Kind</th><th>State</th><th>Spark UI</th><th>Driver log</th><th>Current session?</th></tr><tr><td>4</td><td>application_1589733083011_0005</td><td>pyspark</td><td>idle</td><td><a target=\"_blank\" href=\"http://ip-172-31-81-166.ec2.internal:20888/proxy/application_1589733083011_0005/\">Link</a></td><td><a target=\"_blank\" href=\"http://ip-172-31-85-11.ec2.internal:8042/node/containerlogs/container_1589733083011_0005_01_000001/livy\">Link</a></td><td>✔</td></tr></table>"
      ],
      "text/plain": [
       "<IPython.core.display.HTML object>"
      ]
     },
     "metadata": {},
     "output_type": "display_data"
    }
   ],
   "source": [
    "%%configure -f\n",
    "{ \"conf\":{\n",
    "\"spark.pyspark.python\": \"python3\",\n",
    "\"spark.pyspark.virtualenv.enabled\": \"true\",\n",
    "\"spark.pyspark.virtualenv.type\":\"native\",\n",
    "\"spark.pyspark.virtualenv.bin.path\":\"/usr/bin/virtualenv\"\n",
    "}}"
   ]
  },
  {
   "cell_type": "code",
   "execution_count": 37,
   "metadata": {},
   "outputs": [
    {
     "data": {
      "application/vnd.jupyter.widget-view+json": {
       "model_id": "c05ed555d94d4896aa102cbc13b00fd2",
       "version_major": 2,
       "version_minor": 0
      },
      "text/plain": [
       "VBox()"
      ]
     },
     "metadata": {},
     "output_type": "display_data"
    },
    {
     "data": {
      "application/vnd.jupyter.widget-view+json": {
       "model_id": "",
       "version_major": 2,
       "version_minor": 0
      },
      "text/plain": [
       "FloatProgress(value=0.0, bar_style='info', description='Progress:', layout=Layout(height='25px', width='50%'),…"
      ]
     },
     "metadata": {},
     "output_type": "display_data"
    }
   ],
   "source": [
    "##Datos descargados de la segunda fuente\n",
    "##La tercera fuenta esta desactualizada y no tiene para exportar los datos\n",
    "df=spark.read.csv('s3://trabajo3-dataset/colombia/Casos_positivos_de_COVID-19_en_Colombia(insGov).csv',inferSchema=True,header=True)"
   ]
  },
  {
   "cell_type": "code",
   "execution_count": 38,
   "metadata": {},
   "outputs": [
    {
     "data": {
      "application/vnd.jupyter.widget-view+json": {
       "model_id": "643c4347cac14d71a8946845c4e873fc",
       "version_major": 2,
       "version_minor": 0
      },
      "text/plain": [
       "VBox()"
      ]
     },
     "metadata": {},
     "output_type": "display_data"
    },
    {
     "data": {
      "application/vnd.jupyter.widget-view+json": {
       "model_id": "",
       "version_major": 2,
       "version_minor": 0
      },
      "text/plain": [
       "FloatProgress(value=0.0, bar_style='info', description='Progress:', layout=Layout(height='25px', width='50%'),…"
      ]
     },
     "metadata": {},
     "output_type": "display_data"
    },
    {
     "name": "stdout",
     "output_type": "stream",
     "text": [
      "root\n",
      " |-- ID de caso: integer (nullable = true)\n",
      " |-- Fecha de notificación: timestamp (nullable = true)\n",
      " |-- Codigo DIVIPOLA: integer (nullable = true)\n",
      " |-- Ciudad de ubicación: string (nullable = true)\n",
      " |-- Departamento o Distrito : string (nullable = true)\n",
      " |-- atención: string (nullable = true)\n",
      " |-- Edad: integer (nullable = true)\n",
      " |-- Sexo: string (nullable = true)\n",
      " |-- Tipo: string (nullable = true)\n",
      " |-- Estado: string (nullable = true)\n",
      " |-- País de procedencia: string (nullable = true)\n",
      " |-- FIS: string (nullable = true)\n",
      " |-- Fecha de muerte: string (nullable = true)\n",
      " |-- Fecha diagnostico: timestamp (nullable = true)\n",
      " |-- Fecha recuperado: string (nullable = true)\n",
      " |-- fecha reporte web: timestamp (nullable = true)"
     ]
    }
   ],
   "source": [
    "##Columnas\n",
    "df.printSchema()"
   ]
  },
  {
   "cell_type": "code",
   "execution_count": 39,
   "metadata": {},
   "outputs": [
    {
     "data": {
      "application/vnd.jupyter.widget-view+json": {
       "model_id": "9bb23b3439a043899dc093da36c8f874",
       "version_major": 2,
       "version_minor": 0
      },
      "text/plain": [
       "VBox()"
      ]
     },
     "metadata": {},
     "output_type": "display_data"
    },
    {
     "data": {
      "application/vnd.jupyter.widget-view+json": {
       "model_id": "",
       "version_major": 2,
       "version_minor": 0
      },
      "text/plain": [
       "FloatProgress(value=0.0, bar_style='info', description='Progress:', layout=Layout(height='25px', width='50%'),…"
      ]
     },
     "metadata": {},
     "output_type": "display_data"
    },
    {
     "name": "stdout",
     "output_type": "stream",
     "text": [
      "14216"
     ]
    }
   ],
   "source": [
    "#Numero de casos\n",
    "df.count()"
   ]
  },
  {
   "cell_type": "code",
   "execution_count": 40,
   "metadata": {},
   "outputs": [
    {
     "data": {
      "application/vnd.jupyter.widget-view+json": {
       "model_id": "5d31cce1e6864fc48598c4097484a3f3",
       "version_major": 2,
       "version_minor": 0
      },
      "text/plain": [
       "VBox()"
      ]
     },
     "metadata": {},
     "output_type": "display_data"
    },
    {
     "data": {
      "application/vnd.jupyter.widget-view+json": {
       "model_id": "",
       "version_major": 2,
       "version_minor": 0
      },
      "text/plain": [
       "FloatProgress(value=0.0, bar_style='info', description='Progress:', layout=Layout(height='25px', width='50%'),…"
      ]
     },
     "metadata": {},
     "output_type": "display_data"
    },
    {
     "name": "stdout",
     "output_type": "stream",
     "text": [
      "+------------+-----+\n",
      "|    atención|count|\n",
      "+------------+-----+\n",
      "|Hospital UCI|  136|\n",
      "|   Fallecido|  546|\n",
      "|        Casa| 9292|\n",
      "|    Hospital|  769|\n",
      "|         N/A|   13|\n",
      "|  Recuperado| 3460|\n",
      "+------------+-----+"
     ]
    }
   ],
   "source": [
    "#Fase de limpieza de datos\n",
    "#Analizo el campo atención\n",
    "df.groupBy('atención').count().show()"
   ]
  },
  {
   "cell_type": "code",
   "execution_count": 41,
   "metadata": {},
   "outputs": [
    {
     "data": {
      "application/vnd.jupyter.widget-view+json": {
       "model_id": "38db2c203cb444b5a66f04ad16dce35d",
       "version_major": 2,
       "version_minor": 0
      },
      "text/plain": [
       "VBox()"
      ]
     },
     "metadata": {},
     "output_type": "display_data"
    },
    {
     "data": {
      "application/vnd.jupyter.widget-view+json": {
       "model_id": "",
       "version_major": 2,
       "version_minor": 0
      },
      "text/plain": [
       "FloatProgress(value=0.0, bar_style='info', description='Progress:', layout=Layout(height='25px', width='50%'),…"
      ]
     },
     "metadata": {},
     "output_type": "display_data"
    },
    {
     "name": "stdout",
     "output_type": "stream",
     "text": [
      "+------------+-----+\n",
      "|      Estado|count|\n",
      "+------------+-----+\n",
      "|        null|   15|\n",
      "|   Fallecido|  544|\n",
      "|   Fallecdio|    1|\n",
      "|    Moderado|  806|\n",
      "|        leve|   11|\n",
      "|Asintomático| 1717|\n",
      "|        Leve|10987|\n",
      "|       Grave|  135|\n",
      "+------------+-----+"
     ]
    }
   ],
   "source": [
    "#Analizo el campo Estado\n",
    "df.groupBy('Estado').count().show()"
   ]
  },
  {
   "cell_type": "code",
   "execution_count": 42,
   "metadata": {},
   "outputs": [
    {
     "data": {
      "application/vnd.jupyter.widget-view+json": {
       "model_id": "5936a0d95eb14f488100c694c2d44b24",
       "version_major": 2,
       "version_minor": 0
      },
      "text/plain": [
       "VBox()"
      ]
     },
     "metadata": {},
     "output_type": "display_data"
    },
    {
     "data": {
      "application/vnd.jupyter.widget-view+json": {
       "model_id": "",
       "version_major": 2,
       "version_minor": 0
      },
      "text/plain": [
       "FloatProgress(value=0.0, bar_style='info', description='Progress:', layout=Layout(height='25px', width='50%'),…"
      ]
     },
     "metadata": {},
     "output_type": "display_data"
    },
    {
     "name": "stdout",
     "output_type": "stream",
     "text": [
      "+-----------+-----+\n",
      "|       Tipo|count|\n",
      "+-----------+-----+\n",
      "|Relacionado| 4137|\n",
      "|  Importado|  840|\n",
      "| En Estudio|    2|\n",
      "| En estudio| 9237|\n",
      "+-----------+-----+"
     ]
    }
   ],
   "source": [
    "#Analizo el campo Tipo\n",
    "df.groupBy('Tipo').count().show()"
   ]
  },
  {
   "cell_type": "code",
   "execution_count": 43,
   "metadata": {},
   "outputs": [
    {
     "data": {
      "application/vnd.jupyter.widget-view+json": {
       "model_id": "b9b6551f7bc1420b90ef4c9c14abb971",
       "version_major": 2,
       "version_minor": 0
      },
      "text/plain": [
       "VBox()"
      ]
     },
     "metadata": {},
     "output_type": "display_data"
    },
    {
     "data": {
      "application/vnd.jupyter.widget-view+json": {
       "model_id": "",
       "version_major": 2,
       "version_minor": 0
      },
      "text/plain": [
       "FloatProgress(value=0.0, bar_style='info', description='Progress:', layout=Layout(height='25px', width='50%'),…"
      ]
     },
     "metadata": {},
     "output_type": "display_data"
    },
    {
     "name": "stdout",
     "output_type": "stream",
     "text": [
      "+--------------------+-----+\n",
      "| País de procedencia|count|\n",
      "+--------------------+-----+\n",
      "|           COILOMBIA|    1|\n",
      "|              Canadá|    4|\n",
      "|               Suiza|    1|\n",
      "|               Kenia|    1|\n",
      "|             Croacia|    1|\n",
      "|              Egipto|   11|\n",
      "|              Italia|    9|\n",
      "|             Francia|   16|\n",
      "|              España|  259|\n",
      "|           Argentina|    4|\n",
      "|             Ecuador|   50|\n",
      "|             Bélgica|    1|\n",
      "|         Puerto Rico|   13|\n",
      "|               Chile|    4|\n",
      "|              Panamá|   34|\n",
      "|            Alemania|   10|\n",
      "|             Turquía|   28|\n",
      "|                Cuba|    4|\n",
      "|Emiratos Árabes U...|    2|\n",
      "|              Grecia|    4|\n",
      "|           Venezuela|    4|\n",
      "|              Israel|    6|\n",
      "|      Arabia Saudita|    1|\n",
      "|República Dominicana|   10|\n",
      "|Estados Unidos de...|  217|\n",
      "|             Uruguay|    1|\n",
      "|               Aruba|    3|\n",
      "|           Guatemala|    1|\n",
      "|San Martín (Francia)|    7|\n",
      "|            Honduras|    1|\n",
      "|             Jamaica|   16|\n",
      "|         SANTA MARTA|    1|\n",
      "|                Perú|   12|\n",
      "|          COLOMBIANA|    1|\n",
      "|              EUROPA|    2|\n",
      "|             Irlanda|    1|\n",
      "|              Brasil|   38|\n",
      "|         Reino Unido|   14|\n",
      "|           Australia|    1|\n",
      "|              México|   49|\n",
      "|          Costa Rica|    2|\n",
      "|           Marruecos|    2|\n",
      "|            Colombia|13367|\n",
      "|             Curazao|    1|\n",
      "|              Suecia|    1|\n",
      "+--------------------+-----+"
     ]
    }
   ],
   "source": [
    "#Analizo el campo País de procedencia\n",
    "df.groupBy('País de procedencia').count().show(50)"
   ]
  },
  {
   "cell_type": "code",
   "execution_count": 44,
   "metadata": {},
   "outputs": [
    {
     "data": {
      "application/vnd.jupyter.widget-view+json": {
       "model_id": "f16dda536c9e42ef8e979c27ac97e13c",
       "version_major": 2,
       "version_minor": 0
      },
      "text/plain": [
       "VBox()"
      ]
     },
     "metadata": {},
     "output_type": "display_data"
    },
    {
     "data": {
      "application/vnd.jupyter.widget-view+json": {
       "model_id": "",
       "version_major": 2,
       "version_minor": 0
      },
      "text/plain": [
       "FloatProgress(value=0.0, bar_style='info', description='Progress:', layout=Layout(height='25px', width='50%'),…"
      ]
     },
     "metadata": {},
     "output_type": "display_data"
    }
   ],
   "source": [
    "# 1. Remplazo en 'atencion' los valores' N/A' por 'fallecido', cuando existe fecha de muerte\n",
    "# 2. Remplazo en 'Estado' los valores 'null' por 'fallecido', cuando existe fecha de muerte\n",
    "# 3. Remplazo en 'Estado' los valores 'fallecdio' por 'fallecido'\n",
    "# 4. Remplazo en 'Estado' los valores 'leve' por 'Leve'\n",
    "# 5. Remplazo en 'Tipo' los valores 'En Estudio' por 'En estudio'\n",
    "# 6. Remplazo en 'País de procedencia' los valores 'COILOMBIA', 'COLOMBIANA' y 'SANTA MARTA' por 'Colombia'\n",
    "# 7. Remplazo en 'País de procedencia' los valores 'San Martín (Francia)' por 'Francia'\n",
    "\n",
    "from pyspark.sql import functions as F\n",
    "\n",
    "df = df.withColumn(\"atención\", F.when((F.col(\"atención\")==\"N/A\")&(F.col(\"Fecha de muerte\")!=\"-   -\"), \"Fallecido\").otherwise(F.col(\"atención\")))\n",
    "\n",
    "df = df.withColumn(\"Estado\", F.when((F.col(\"Estado\").isNull())&(F.col(\"Fecha de muerte\")!=\"-   -\"), \"Fallecido\").otherwise(F.col(\"Estado\")))\n",
    "df = df.withColumn(\"Estado\", F.when(F.col(\"Estado\")==\"Fallecdio\", \"Fallecido\").otherwise(F.col(\"Estado\")))\n",
    "df = df.withColumn(\"Estado\", F.when(F.col(\"Estado\")==\"leve\", \"Leve\").otherwise(F.col(\"Estado\")))\n",
    "\n",
    "df = df.withColumn(\"Tipo\", F.when(F.col(\"Tipo\")==\"En Estudio\", \"En estudio\").otherwise(F.col(\"Tipo\")))\n",
    "\n",
    "df = df.withColumn(\"País de procedencia\", F.when((F.col(\"País de procedencia\")==\"COILOMBIA\")|(F.col(\"País de procedencia\")==\"COLOMBIANA\")|(F.col(\"País de procedencia\")==\"SANTA MARTA\"), \"Colombia\").otherwise(F.col(\"País de procedencia\")))\n",
    "df = df.withColumn(\"País de procedencia\", F.when(F.col(\"País de procedencia\")==\"San Martín (Francia)\", \"Francia\").otherwise(F.col(\"País de procedencia\")))"
   ]
  },
  {
   "cell_type": "code",
   "execution_count": 45,
   "metadata": {},
   "outputs": [
    {
     "data": {
      "application/vnd.jupyter.widget-view+json": {
       "model_id": "8b88c4951afa46d989c3038e2d23858d",
       "version_major": 2,
       "version_minor": 0
      },
      "text/plain": [
       "VBox()"
      ]
     },
     "metadata": {},
     "output_type": "display_data"
    },
    {
     "data": {
      "application/vnd.jupyter.widget-view+json": {
       "model_id": "",
       "version_major": 2,
       "version_minor": 0
      },
      "text/plain": [
       "FloatProgress(value=0.0, bar_style='info', description='Progress:', layout=Layout(height='25px', width='50%'),…"
      ]
     },
     "metadata": {},
     "output_type": "display_data"
    }
   ],
   "source": [
    "#Fase de analisis exploratorio\n",
    "# Cambio el tipo de dato \"string\" a \"timestamp\" de la columna FIS\n",
    "# Calculo la diferencia de tiempo entre \"Fecha de notificacion\" y \"FIS\"\n",
    "# Agrego la nueva columna \"Dias de exposicion\" al dataFrame\n",
    "# Dias de exposicion: el tiempo que pasa desde de que una persona tiene sintomas, hasta que los notifica al sistema de salud\n",
    "# Este campo es importante, ya que el tiempo que pasa el paciente sin notificar los sintomas es posible que pueda exparsir el virus\n",
    "# En caso de que el campo sea \"Asintomatico\" en la columna \"FIS\", es imposible saber cuanto tiempo el paciente pudo exparsir el virus\n",
    " \n",
    "\n",
    "df = df.withColumn('FIS', F.col('FIS').cast('timestamp'))\n",
    "diff_secs_col = F.col(\"Fecha de notificación\").cast(\"long\") - F.col(\"FIS\").cast(\"long\")\n",
    "df = df.withColumn( \"Dias de exposicion\", diff_secs_col/86400  )"
   ]
  },
  {
   "cell_type": "code",
   "execution_count": 46,
   "metadata": {},
   "outputs": [
    {
     "data": {
      "application/vnd.jupyter.widget-view+json": {
       "model_id": "8befe0f8079b4e6b9f53a2e561e1cb42",
       "version_major": 2,
       "version_minor": 0
      },
      "text/plain": [
       "VBox()"
      ]
     },
     "metadata": {},
     "output_type": "display_data"
    },
    {
     "data": {
      "application/vnd.jupyter.widget-view+json": {
       "model_id": "",
       "version_major": 2,
       "version_minor": 0
      },
      "text/plain": [
       "FloatProgress(value=0.0, bar_style='info', description='Progress:', layout=Layout(height='25px', width='50%'),…"
      ]
     },
     "metadata": {},
     "output_type": "display_data"
    }
   ],
   "source": [
    "# Agrego 2 columnas temporales \"inicio\" y \"fin\"\n",
    "# inicio: fecha en la que el virus aparece en el paciente. se calcula a partir de la fecha de inicio de sintomas(FIS) \n",
    "# y en caso de ser Asintomatico, se calcula a partir de la fecha de notificacion.\n",
    "# fin: fecha en la que el virus desaparece del paciente. se calcula con la fecha de muerte o fecha de recuperacion del paciente.\n",
    "# en caso de que ambas fechas sean \"null\", significa que el paciente sigue infectado\n",
    "\n",
    "df = df.withColumn(\"inicio\", F.when(F.col(\"FIS\")==\"Asintomático\", F.col('Fecha de notificación')).otherwise(F.col(\"FIS\").cast('timestamp')))\n",
    "df = df.withColumn(\"fin\", F.when(F.col(\"Fecha de muerte\")==\"-   -\", F.col('Fecha recuperado').cast('timestamp')).otherwise(F.col(\"Fecha de muerte\").cast('timestamp')))"
   ]
  },
  {
   "cell_type": "code",
   "execution_count": 47,
   "metadata": {},
   "outputs": [
    {
     "data": {
      "application/vnd.jupyter.widget-view+json": {
       "model_id": "d643657a22e24a1b8871beb3ed15e945",
       "version_major": 2,
       "version_minor": 0
      },
      "text/plain": [
       "VBox()"
      ]
     },
     "metadata": {},
     "output_type": "display_data"
    },
    {
     "data": {
      "application/vnd.jupyter.widget-view+json": {
       "model_id": "",
       "version_major": 2,
       "version_minor": 0
      },
      "text/plain": [
       "FloatProgress(value=0.0, bar_style='info', description='Progress:', layout=Layout(height='25px', width='50%'),…"
      ]
     },
     "metadata": {},
     "output_type": "display_data"
    }
   ],
   "source": [
    "# Agrego la nueva columna \"Duracion de infeccion\"\n",
    "# Duracion de infeccion: es el tiempo en dias que un paciente dura infectado con el virus.\n",
    "\n",
    "diff_secs_col = F.col(\"fin\").cast(\"long\") - F.col(\"inicio\").cast(\"long\")\n",
    "df = df.withColumn( \"Duracion de infeccion\", diff_secs_col/86400  )"
   ]
  },
  {
   "cell_type": "code",
   "execution_count": 48,
   "metadata": {},
   "outputs": [
    {
     "data": {
      "application/vnd.jupyter.widget-view+json": {
       "model_id": "2c6776bf56174b42b36585c6a6020061",
       "version_major": 2,
       "version_minor": 0
      },
      "text/plain": [
       "VBox()"
      ]
     },
     "metadata": {},
     "output_type": "display_data"
    },
    {
     "data": {
      "application/vnd.jupyter.widget-view+json": {
       "model_id": "",
       "version_major": 2,
       "version_minor": 0
      },
      "text/plain": [
       "FloatProgress(value=0.0, bar_style='info', description='Progress:', layout=Layout(height='25px', width='50%'),…"
      ]
     },
     "metadata": {},
     "output_type": "display_data"
    },
    {
     "name": "stdout",
     "output_type": "stream",
     "text": [
      "root\n",
      " |-- Fecha de notificación: timestamp (nullable = true)\n",
      " |-- Ciudad de ubicación: string (nullable = true)\n",
      " |-- Departamento o Distrito : string (nullable = true)\n",
      " |-- atención: string (nullable = true)\n",
      " |-- Edad: integer (nullable = true)\n",
      " |-- Sexo: string (nullable = true)\n",
      " |-- Tipo: string (nullable = true)\n",
      " |-- Estado: string (nullable = true)\n",
      " |-- País de procedencia: string (nullable = true)\n",
      " |-- FIS: timestamp (nullable = true)\n",
      " |-- Fecha de muerte: string (nullable = true)\n",
      " |-- Fecha diagnostico: timestamp (nullable = true)\n",
      " |-- Fecha recuperado: string (nullable = true)\n",
      " |-- Dias de exposicion: double (nullable = true)\n",
      " |-- Duracion de infeccion: double (nullable = true)"
     ]
    }
   ],
   "source": [
    "# Elimino las columnas ['ID de caso', 'Codigo DIVIPOLA', 'fecha reporte web'. 'fin', 'inicio']\n",
    "# ya que no son relevantes para el analisis\n",
    "df = df.select('Fecha de notificación', 'Ciudad de ubicación', 'Departamento o Distrito ', 'atención', 'Edad', 'Sexo', 'Tipo', 'Estado', 'País de procedencia', 'FIS', 'Fecha de muerte', 'Fecha diagnostico', 'Fecha recuperado', 'Dias de exposicion', 'Duracion de infeccion')\n",
    "df.printSchema()"
   ]
  },
  {
   "cell_type": "code",
   "execution_count": 50,
   "metadata": {},
   "outputs": [
    {
     "data": {
      "application/vnd.jupyter.widget-view+json": {
       "model_id": "8fc9f99d316e414ca8231ba4ce496786",
       "version_major": 2,
       "version_minor": 0
      },
      "text/plain": [
       "VBox()"
      ]
     },
     "metadata": {},
     "output_type": "display_data"
    },
    {
     "data": {
      "application/vnd.jupyter.widget-view+json": {
       "model_id": "",
       "version_major": 2,
       "version_minor": 0
      },
      "text/plain": [
       "FloatProgress(value=0.0, bar_style='info', description='Progress:', layout=Layout(height='25px', width='50%'),…"
      ]
     },
     "metadata": {},
     "output_type": "display_data"
    }
   ],
   "source": [
    "############## Grabo los resultados en mi bucket de S3 #####################\n",
    "# Direccion del bucket\n",
    "write_uri='s3://trabajo3-dataset/procesado/colombia'\n",
    "# Almacenamiento del dataFrame como un archivo csv\n",
    "df.coalesce(1).write.format(\"csv\").option(\"header\",\"true\").save(write_uri)"
   ]
  },
  {
   "cell_type": "code",
   "execution_count": 138,
   "metadata": {},
   "outputs": [
    {
     "data": {
      "application/vnd.jupyter.widget-view+json": {
       "model_id": "c83894b0301e4294baf4f1b987fb470e",
       "version_major": 2,
       "version_minor": 0
      },
      "text/plain": [
       "VBox()"
      ]
     },
     "metadata": {},
     "output_type": "display_data"
    },
    {
     "data": {
      "application/vnd.jupyter.widget-view+json": {
       "model_id": "",
       "version_major": 2,
       "version_minor": 0
      },
      "text/plain": [
       "FloatProgress(value=0.0, bar_style='info', description='Progress:', layout=Layout(height='25px', width='50%'),…"
      ]
     },
     "metadata": {},
     "output_type": "display_data"
    }
   ],
   "source": [
    "## Ahora los datasets del mundo \n",
    "## cargamos el de casos confirmados, \n",
    "dfConfirmados=spark.read.csv('s3://trabajo3-dataset/mundial/time_series_covid19_confirmed_global.csv',inferSchema=True,header=True)\n",
    "dfMuertos=spark.read.csv('s3://trabajo3-dataset/mundial/time_series_covid19_deaths_global.csv',inferSchema=True,header=True)\n",
    "dfRecuperados=spark.read.csv('s3://trabajo3-dataset/mundial/time_series_covid19_recovered_global.csv',inferSchema=True,header=True)"
   ]
  },
  {
   "cell_type": "code",
   "execution_count": 141,
   "metadata": {},
   "outputs": [
    {
     "data": {
      "application/vnd.jupyter.widget-view+json": {
       "model_id": "12cb6280208347a8bf9c7be364707ae4",
       "version_major": 2,
       "version_minor": 0
      },
      "text/plain": [
       "VBox()"
      ]
     },
     "metadata": {},
     "output_type": "display_data"
    },
    {
     "data": {
      "application/vnd.jupyter.widget-view+json": {
       "model_id": "",
       "version_major": 2,
       "version_minor": 0
      },
      "text/plain": [
       "FloatProgress(value=0.0, bar_style='info', description='Progress:', layout=Layout(height='25px', width='50%'),…"
      ]
     },
     "metadata": {},
     "output_type": "display_data"
    }
   ],
   "source": [
    "# Calculo el total de casos, muertos y recuperados de cada pais sumando el total de todas las fechas juntas\n",
    "\n",
    "totalCasos = dfConfirmados.groupBy('Country/Region').agg(F.sum('5/8/20').alias('casos')).orderBy('casos', ascending=False).collect()\n",
    "totalMuertes = dfMuertos.groupBy('Country/Region').agg(F.sum('5/8/20').alias('muertes')).orderBy('muertes', ascending=False).collect()\n",
    "totalRecuperados = dfRecuperados.groupBy('Country/Region').agg(F.sum('5/8/20').alias('recuperados')).orderBy('recuperados', ascending=False).collect()"
   ]
  },
  {
   "cell_type": "code",
   "execution_count": 142,
   "metadata": {},
   "outputs": [
    {
     "data": {
      "application/vnd.jupyter.widget-view+json": {
       "model_id": "aae12bf6f980453b93428c7e98746abb",
       "version_major": 2,
       "version_minor": 0
      },
      "text/plain": [
       "VBox()"
      ]
     },
     "metadata": {},
     "output_type": "display_data"
    },
    {
     "data": {
      "application/vnd.jupyter.widget-view+json": {
       "model_id": "",
       "version_major": 2,
       "version_minor": 0
      },
      "text/plain": [
       "FloatProgress(value=0.0, bar_style='info', description='Progress:', layout=Layout(height='25px', width='50%'),…"
      ]
     },
     "metadata": {},
     "output_type": "display_data"
    }
   ],
   "source": [
    "# Creo un arreglo con el nombre de cada pais\n",
    "paises = [totalCasos[n][0] for n in range(len(totalRecuperados))]\n",
    "\n",
    "# Transformo las listas 'totalCasos', 'totalMuertes' y 'totalRecuperados' en diccionarios\n",
    "# de la forma {nombrePais: cantidad}\n",
    "casosDict = { totalCasos[n][0] : totalCasos[n][1] for n in range(len(totalCasos)) }\n",
    "muertesDict = { totalMuertes[n][0] : totalMuertes[n][1] for n in range(len(totalMuertes)) }\n",
    "recuperadosDict = { totalRecuperados[n][0] : totalRecuperados[n][1] for n in range(len(totalRecuperados)) }\n",
    "\n",
    "# Creo una matriz de con las columnas [NombrePais, totalCasos, totalMuertes, totalRecuperados]\n",
    "matrix = []\n",
    "for pais in paises:\n",
    "    matrix.append([pais, casosDict[pais], muertesDict[pais], recuperadosDict[pais]])"
   ]
  },
  {
   "cell_type": "code",
   "execution_count": 143,
   "metadata": {},
   "outputs": [
    {
     "data": {
      "application/vnd.jupyter.widget-view+json": {
       "model_id": "353cc89878714dea88fd86c07d34cd60",
       "version_major": 2,
       "version_minor": 0
      },
      "text/plain": [
       "VBox()"
      ]
     },
     "metadata": {},
     "output_type": "display_data"
    },
    {
     "data": {
      "application/vnd.jupyter.widget-view+json": {
       "model_id": "",
       "version_major": 2,
       "version_minor": 0
      },
      "text/plain": [
       "FloatProgress(value=0.0, bar_style='info', description='Progress:', layout=Layout(height='25px', width='50%'),…"
      ]
     },
     "metadata": {},
     "output_type": "display_data"
    },
    {
     "name": "stdout",
     "output_type": "stream",
     "text": [
      "+--------------------+-------+----------+-----------+\n",
      "|                Pais|  Casos|Fallecidos|Recuperados|\n",
      "+--------------------+-------+----------+-----------+\n",
      "|                  US|1283929|     77180|     198993|\n",
      "|               Spain| 222857|     26299|     131148|\n",
      "|               Italy| 217185|     30201|      99023|\n",
      "|      United Kingdom| 212629|     31316|        997|\n",
      "|              Russia| 187859|      1723|      26608|\n",
      "|              France| 176202|     26233|      55892|\n",
      "|             Germany| 170588|      7510|     141700|\n",
      "|              Brazil| 146894|     10017|      59297|\n",
      "|              Turkey| 135569|      3689|      86396|\n",
      "|                Iran| 104691|      6541|      83837|\n",
      "|               China|  83976|      4637|      78993|\n",
      "|              Canada|  67674|      4697|      30239|\n",
      "|                Peru|  61847|      1714|      19012|\n",
      "|               India|  59695|      1985|      17887|\n",
      "|             Belgium|  52011|      8521|      13201|\n",
      "|         Netherlands|  42292|      5377|        147|\n",
      "|        Saudi Arabia|  35432|       229|       9120|\n",
      "|              Mexico|  31522|      3160|      20314|\n",
      "|         Switzerland|  30207|      1823|      26100|\n",
      "|             Ecuador|  28818|      1704|       3433|\n",
      "|            Portugal|  27268|      1114|       2422|\n",
      "|            Pakistan|  26435|       599|       7530|\n",
      "|               Chile|  25972|       294|      12160|\n",
      "|              Sweden|  25265|      3175|       4971|\n",
      "|             Ireland|  22541|      1429|      17110|\n",
      "|           Singapore|  21707|        20|       2040|\n",
      "|             Belarus|  21101|       121|       5484|\n",
      "|               Qatar|  20201|        12|       2370|\n",
      "|United Arab Emirates|  16793|       174|       3837|\n",
      "|              Israel|  16436|       245|      11229|\n",
      "|             Austria|  15774|       614|      13836|\n",
      "|               Japan|  15575|       590|       5146|\n",
      "|              Poland|  15366|       776|       5184|\n",
      "|             Romania|  14811|       923|       6423|\n",
      "|             Ukraine|  14195|       361|       2706|\n",
      "|          Bangladesh|  13134|       206|       2101|\n",
      "|           Indonesia|  13112|       943|       2494|\n",
      "|        Korea, South|  10840|       256|       9568|\n",
      "|         Philippines|  10463|       696|       1734|\n",
      "|             Denmark|  10416|       522|       8125|\n",
      "|            Colombia|  10051|       428|       2424|\n",
      "|              Serbia|   9943|       209|       2453|\n",
      "|  Dominican Republic|   9376|       380|       2286|\n",
      "|        South Africa|   8895|       178|       3153|\n",
      "|               Egypt|   8476|       503|       1945|\n",
      "|             Czechia|   8077|       273|       4413|\n",
      "|              Norway|   8070|       218|         32|\n",
      "|              Panama|   8070|       231|        886|\n",
      "|              Kuwait|   7208|        47|       2466|\n",
      "|           Australia|   6918|        97|       6122|\n",
      "|            Malaysia|   6535|       107|       4864|\n",
      "|             Finland|   5738|       260|       4000|\n",
      "|             Morocco|   5711|       186|       2324|\n",
      "|           Argentina|   5611|       293|       1659|\n",
      "|             Algeria|   5369|       488|       2467|\n",
      "|          Kazakhstan|   4834|        31|       1631|\n",
      "|             Moldova|   4728|       150|       1826|\n",
      "|             Bahrain|   4444|         8|       2028|\n",
      "|               Ghana|   4012|        18|        323|\n",
      "|             Nigeria|   3912|       117|        679|\n",
      "|          Luxembourg|   3871|       100|       3526|\n",
      "|         Afghanistan|   3778|       109|        472|\n",
      "|             Hungary|   3178|       392|        865|\n",
      "|                Oman|   3112|        16|       1025|\n",
      "|             Armenia|   3029|        43|       1218|\n",
      "|            Thailand|   3000|        55|       2784|\n",
      "|              Greece|   2691|       150|       1374|\n",
      "|                Iraq|   2603|       104|       1661|\n",
      "|          Uzbekistan|   2325|        10|       1775|\n",
      "|          Azerbaijan|   2279|        28|       1576|\n",
      "|            Cameroon|   2267|       108|       1002|\n",
      "|             Bolivia|   2266|       106|        237|\n",
      "|             Croatia|   2161|        86|       1689|\n",
      "|Bosnia and Herzeg...|   2070|        98|        960|\n",
      "|              Guinea|   2009|        11|        663|\n",
      "|            Bulgaria|   1872|        86|        401|\n",
      "|             Iceland|   1801|        10|       1765|\n",
      "|            Honduras|   1771|       107|        192|\n",
      "|                Cuba|   1741|        74|       1078|\n",
      "|             Estonia|   1725|        56|        704|\n",
      "|       Cote d'Ivoire|   1602|        20|        754|\n",
      "|     North Macedonia|   1586|        90|       1099|\n",
      "|             Senegal|   1551|        13|        611|\n",
      "|         New Zealand|   1492|        21|       1368|\n",
      "|            Slovakia|   1455|        26|        905|\n",
      "|            Slovenia|   1450|       100|        252|\n",
      "|           Lithuania|   1436|        49|        765|\n",
      "|            Djibouti|   1135|         3|        824|\n",
      "|               Sudan|   1111|        59|        102|\n",
      "|             Tunisia|   1030|        45|        638|\n",
      "|    Congo (Kinshasa)|    937|        39|        130|\n",
      "|             Somalia|    928|        44|        106|\n",
      "|              Latvia|    928|        18|        464|\n",
      "|          Kyrgyzstan|    906|        12|        650|\n",
      "|           Guatemala|    900|        24|        101|\n",
      "|              Cyprus|    891|        15|        400|\n",
      "|              Kosovo|    861|        27|        562|\n",
      "|             Albania|    850|        31|        620|\n",
      "|           Sri Lanka|    835|         9|        240|\n",
      "|             Lebanon|    796|        26|        223|\n",
      "|               Niger|    795|        44|        600|\n",
      "|          Costa Rica|    773|         6|        461|\n",
      "|             Andorra|    752|        47|        537|\n",
      "|            Maldives|    744|         3|         20|\n",
      "|        Burkina Faso|    744|        48|        566|\n",
      "|         El Salvador|    742|        16|        257|\n",
      "|    Diamond Princess|    712|        13|        645|\n",
      "|             Uruguay|    694|        18|        506|\n",
      "|                Mali|    668|        35|        285|\n",
      "|          San Marino|    623|        41|        114|\n",
      "|             Georgia|    623|        10|        288|\n",
      "|               Kenya|    621|        29|        202|\n",
      "|               Gabon|    620|         8|        110|\n",
      "|       Guinea-Bissau|    594|         2|         25|\n",
      "|            Paraguay|    563|        10|        152|\n",
      "|          Tajikistan|    522|        12|          0|\n",
      "|            Tanzania|    509|        21|        183|\n",
      "|              Jordan|    508|         9|        385|\n",
      "|             Jamaica|    490|         9|         62|\n",
      "|               Malta|    489|         5|        419|\n",
      "|             Taiwan*|    440|         6|        355|\n",
      "|   Equatorial Guinea|    439|         4|         13|\n",
      "|           Venezuela|    388|        10|        190|\n",
      "|  West Bank and Gaza|    375|         2|        228|\n",
      "|           Mauritius|    332|        10|        320|\n",
      "|          Montenegro|    324|         8|        267|\n",
      "|             Vietnam|    288|         0|        241|\n",
      "| Congo (Brazzaville)|    274|        10|         33|\n",
      "|              Rwanda|    273|         0|        136|\n",
      "|                Chad|    260|        28|         50|\n",
      "|        Sierra Leone|    257|        17|         54|\n",
      "|               Benin|    242|         2|         62|\n",
      "|          Cabo Verde|    230|         2|         44|\n",
      "|Sao Tome and Prin...|    208|         5|          4|\n",
      "|             Liberia|    199|        20|         79|\n",
      "|            Ethiopia|    194|         4|         95|\n",
      "|          Madagascar|    193|         0|        101|\n",
      "|               Burma|    177|         6|         67|\n",
      "|              Zambia|    167|         4|        111|\n",
      "|            Eswatini|    159|         2|         12|\n",
      "|               Haiti|    146|        12|         17|\n",
      "|                Togo|    145|        10|         85|\n",
      "|Central African R...|    143|         0|         10|\n",
      "|              Brunei|    141|         1|        132|\n",
      "|            Cambodia|    122|         0|        120|\n",
      "|         South Sudan|    120|         0|          2|\n",
      "| Trinidad and Tobago|    116|         8|        103|\n",
      "|               Nepal|    102|         0|         31|\n",
      "|              Uganda|    101|         0|         55|\n",
      "|              Monaco|     95|         4|         82|\n",
      "|              Guyana|     94|        10|         35|\n",
      "|             Bahamas|     92|        11|         31|\n",
      "|            Barbados|     83|         7|         53|\n",
      "|       Liechtenstein|     82|         1|         55|\n",
      "|          Mozambique|     82|         0|         27|\n",
      "|               Libya|     64|         3|         24|\n",
      "|               Syria|     47|         3|         29|\n",
      "|              Malawi|     43|         3|         14|\n",
      "|              Angola|     43|         2|         11|\n",
      "|            Mongolia|     42|         0|         13|\n",
      "|             Eritrea|     39|         0|         37|\n",
      "|               Yemen|     34|         7|          1|\n",
      "|            Zimbabwe|     34|         4|          9|\n",
      "| Antigua and Barbuda|     25|         3|         16|\n",
      "|         Timor-Leste|     24|         0|         21|\n",
      "|            Botswana|     23|         1|          9|\n",
      "|             Grenada|     21|         0|         13|\n",
      "|              Gambia|     20|         1|          9|\n",
      "|                Laos|     19|         0|          9|\n",
      "|                Fiji|     18|         0|         14|\n",
      "|         Saint Lucia|     18|         0|         17|\n",
      "|              Belize|     18|         2|         16|\n",
      "|Saint Vincent and...|     17|         0|          9|\n",
      "|            Dominica|     16|         0|         14|\n",
      "|           Nicaragua|     16|         5|          7|\n",
      "|             Namibia|     16|         0|          9|\n",
      "|             Burundi|     15|         1|          7|\n",
      "|Saint Kitts and N...|     15|         0|         13|\n",
      "|            Holy See|     12|         0|          2|\n",
      "|          Seychelles|     11|         0|          8|\n",
      "|            Suriname|     10|         1|          9|\n",
      "|          MS Zaandam|      9|         2|          0|\n",
      "|             Comoros|      8|         1|          0|\n",
      "|          Mauritania|      8|         1|          6|\n",
      "|    Papua New Guinea|      8|         0|          8|\n",
      "|              Bhutan|      7|         0|          5|\n",
      "|      Western Sahara|      6|         0|          5|\n",
      "+--------------------+-------+----------+-----------+"
     ]
    }
   ],
   "source": [
    "# Creo en dataframe desde la matriz\n",
    "columns=[\"Pais\", \"Casos\", \"Fallecidos\", \"Recuperados\"]\n",
    "\n",
    "df=spark.createDataFrame(matrix,schema=columns)\n",
    "df.show(187)"
   ]
  },
  {
   "cell_type": "code",
   "execution_count": 144,
   "metadata": {
    "scrolled": false
   },
   "outputs": [
    {
     "data": {
      "application/vnd.jupyter.widget-view+json": {
       "model_id": "219526ffbbd9423396a1fafe27d90d86",
       "version_major": 2,
       "version_minor": 0
      },
      "text/plain": [
       "VBox()"
      ]
     },
     "metadata": {},
     "output_type": "display_data"
    },
    {
     "data": {
      "application/vnd.jupyter.widget-view+json": {
       "model_id": "",
       "version_major": 2,
       "version_minor": 0
      },
      "text/plain": [
       "FloatProgress(value=0.0, bar_style='info', description='Progress:', layout=Layout(height='25px', width='50%'),…"
      ]
     },
     "metadata": {},
     "output_type": "display_data"
    },
    {
     "name": "stdout",
     "output_type": "stream",
     "text": [
      "+--------------------+-------+----------+-----------+----------+\n",
      "|                Pais|  Casos|Fallecidos|Recuperados|Infectados|\n",
      "+--------------------+-------+----------+-----------+----------+\n",
      "|                  US|1283929|     77180|     198993|   1007756|\n",
      "|               Spain| 222857|     26299|     131148|     65410|\n",
      "|               Italy| 217185|     30201|      99023|     87961|\n",
      "|      United Kingdom| 212629|     31316|        997|    180316|\n",
      "|              Russia| 187859|      1723|      26608|    159528|\n",
      "|              France| 176202|     26233|      55892|     94077|\n",
      "|             Germany| 170588|      7510|     141700|     21378|\n",
      "|              Brazil| 146894|     10017|      59297|     77580|\n",
      "|              Turkey| 135569|      3689|      86396|     45484|\n",
      "|                Iran| 104691|      6541|      83837|     14313|\n",
      "|               China|  83976|      4637|      78993|       346|\n",
      "|              Canada|  67674|      4697|      30239|     32738|\n",
      "|                Peru|  61847|      1714|      19012|     41121|\n",
      "|               India|  59695|      1985|      17887|     39823|\n",
      "|             Belgium|  52011|      8521|      13201|     30289|\n",
      "|         Netherlands|  42292|      5377|        147|     36768|\n",
      "|        Saudi Arabia|  35432|       229|       9120|     26083|\n",
      "|              Mexico|  31522|      3160|      20314|      8048|\n",
      "|         Switzerland|  30207|      1823|      26100|      2284|\n",
      "|             Ecuador|  28818|      1704|       3433|     23681|\n",
      "|            Portugal|  27268|      1114|       2422|     23732|\n",
      "|            Pakistan|  26435|       599|       7530|     18306|\n",
      "|               Chile|  25972|       294|      12160|     13518|\n",
      "|              Sweden|  25265|      3175|       4971|     17119|\n",
      "|             Ireland|  22541|      1429|      17110|      4002|\n",
      "|           Singapore|  21707|        20|       2040|     19647|\n",
      "|             Belarus|  21101|       121|       5484|     15496|\n",
      "|               Qatar|  20201|        12|       2370|     17819|\n",
      "|United Arab Emirates|  16793|       174|       3837|     12782|\n",
      "|              Israel|  16436|       245|      11229|      4962|\n",
      "|             Austria|  15774|       614|      13836|      1324|\n",
      "|               Japan|  15575|       590|       5146|      9839|\n",
      "|              Poland|  15366|       776|       5184|      9406|\n",
      "|             Romania|  14811|       923|       6423|      7465|\n",
      "|             Ukraine|  14195|       361|       2706|     11128|\n",
      "|          Bangladesh|  13134|       206|       2101|     10827|\n",
      "|           Indonesia|  13112|       943|       2494|      9675|\n",
      "|        Korea, South|  10840|       256|       9568|      1016|\n",
      "|         Philippines|  10463|       696|       1734|      8033|\n",
      "|             Denmark|  10416|       522|       8125|      1769|\n",
      "|            Colombia|  10051|       428|       2424|      7199|\n",
      "|              Serbia|   9943|       209|       2453|      7281|\n",
      "|  Dominican Republic|   9376|       380|       2286|      6710|\n",
      "|        South Africa|   8895|       178|       3153|      5564|\n",
      "|               Egypt|   8476|       503|       1945|      6028|\n",
      "|             Czechia|   8077|       273|       4413|      3391|\n",
      "|              Norway|   8070|       218|         32|      7820|\n",
      "|              Panama|   8070|       231|        886|      6953|\n",
      "|              Kuwait|   7208|        47|       2466|      4695|\n",
      "|           Australia|   6918|        97|       6122|       699|\n",
      "|            Malaysia|   6535|       107|       4864|      1564|\n",
      "|             Finland|   5738|       260|       4000|      1478|\n",
      "|             Morocco|   5711|       186|       2324|      3201|\n",
      "|           Argentina|   5611|       293|       1659|      3659|\n",
      "|             Algeria|   5369|       488|       2467|      2414|\n",
      "|          Kazakhstan|   4834|        31|       1631|      3172|\n",
      "|             Moldova|   4728|       150|       1826|      2752|\n",
      "|             Bahrain|   4444|         8|       2028|      2408|\n",
      "|               Ghana|   4012|        18|        323|      3671|\n",
      "|             Nigeria|   3912|       117|        679|      3116|\n",
      "|          Luxembourg|   3871|       100|       3526|       245|\n",
      "|         Afghanistan|   3778|       109|        472|      3197|\n",
      "|             Hungary|   3178|       392|        865|      1921|\n",
      "|                Oman|   3112|        16|       1025|      2071|\n",
      "|             Armenia|   3029|        43|       1218|      1768|\n",
      "|            Thailand|   3000|        55|       2784|       161|\n",
      "|              Greece|   2691|       150|       1374|      1167|\n",
      "|                Iraq|   2603|       104|       1661|       838|\n",
      "|          Uzbekistan|   2325|        10|       1775|       540|\n",
      "|          Azerbaijan|   2279|        28|       1576|       675|\n",
      "|            Cameroon|   2267|       108|       1002|      1157|\n",
      "|             Bolivia|   2266|       106|        237|      1923|\n",
      "|             Croatia|   2161|        86|       1689|       386|\n",
      "|Bosnia and Herzeg...|   2070|        98|        960|      1012|\n",
      "|              Guinea|   2009|        11|        663|      1335|\n",
      "|            Bulgaria|   1872|        86|        401|      1385|\n",
      "|             Iceland|   1801|        10|       1765|        26|\n",
      "|            Honduras|   1771|       107|        192|      1472|\n",
      "|                Cuba|   1741|        74|       1078|       589|\n",
      "|             Estonia|   1725|        56|        704|       965|\n",
      "|       Cote d'Ivoire|   1602|        20|        754|       828|\n",
      "|     North Macedonia|   1586|        90|       1099|       397|\n",
      "|             Senegal|   1551|        13|        611|       927|\n",
      "|         New Zealand|   1492|        21|       1368|       103|\n",
      "|            Slovakia|   1455|        26|        905|       524|\n",
      "|            Slovenia|   1450|       100|        252|      1098|\n",
      "|           Lithuania|   1436|        49|        765|       622|\n",
      "|            Djibouti|   1135|         3|        824|       308|\n",
      "|               Sudan|   1111|        59|        102|       950|\n",
      "|             Tunisia|   1030|        45|        638|       347|\n",
      "|    Congo (Kinshasa)|    937|        39|        130|       768|\n",
      "|             Somalia|    928|        44|        106|       778|\n",
      "|              Latvia|    928|        18|        464|       446|\n",
      "|          Kyrgyzstan|    906|        12|        650|       244|\n",
      "|           Guatemala|    900|        24|        101|       775|\n",
      "|              Cyprus|    891|        15|        400|       476|\n",
      "|              Kosovo|    861|        27|        562|       272|\n",
      "|             Albania|    850|        31|        620|       199|\n",
      "|           Sri Lanka|    835|         9|        240|       586|\n",
      "|             Lebanon|    796|        26|        223|       547|\n",
      "|               Niger|    795|        44|        600|       151|\n",
      "|          Costa Rica|    773|         6|        461|       306|\n",
      "|             Andorra|    752|        47|        537|       168|\n",
      "|            Maldives|    744|         3|         20|       721|\n",
      "|        Burkina Faso|    744|        48|        566|       130|\n",
      "|         El Salvador|    742|        16|        257|       469|\n",
      "|    Diamond Princess|    712|        13|        645|        54|\n",
      "|             Uruguay|    694|        18|        506|       170|\n",
      "|                Mali|    668|        35|        285|       348|\n",
      "|          San Marino|    623|        41|        114|       468|\n",
      "|             Georgia|    623|        10|        288|       325|\n",
      "|               Kenya|    621|        29|        202|       390|\n",
      "|               Gabon|    620|         8|        110|       502|\n",
      "|       Guinea-Bissau|    594|         2|         25|       567|\n",
      "|            Paraguay|    563|        10|        152|       401|\n",
      "|          Tajikistan|    522|        12|          0|       510|\n",
      "|            Tanzania|    509|        21|        183|       305|\n",
      "|              Jordan|    508|         9|        385|       114|\n",
      "|             Jamaica|    490|         9|         62|       419|\n",
      "|               Malta|    489|         5|        419|        65|\n",
      "|             Taiwan*|    440|         6|        355|        79|\n",
      "|   Equatorial Guinea|    439|         4|         13|       422|\n",
      "|           Venezuela|    388|        10|        190|       188|\n",
      "|  West Bank and Gaza|    375|         2|        228|       145|\n",
      "|           Mauritius|    332|        10|        320|         2|\n",
      "|          Montenegro|    324|         8|        267|        49|\n",
      "|             Vietnam|    288|         0|        241|        47|\n",
      "| Congo (Brazzaville)|    274|        10|         33|       231|\n",
      "|              Rwanda|    273|         0|        136|       137|\n",
      "|                Chad|    260|        28|         50|       182|\n",
      "|        Sierra Leone|    257|        17|         54|       186|\n",
      "|               Benin|    242|         2|         62|       178|\n",
      "|          Cabo Verde|    230|         2|         44|       184|\n",
      "|Sao Tome and Prin...|    208|         5|          4|       199|\n",
      "|             Liberia|    199|        20|         79|       100|\n",
      "|            Ethiopia|    194|         4|         95|        95|\n",
      "|          Madagascar|    193|         0|        101|        92|\n",
      "|               Burma|    177|         6|         67|       104|\n",
      "|              Zambia|    167|         4|        111|        52|\n",
      "|            Eswatini|    159|         2|         12|       145|\n",
      "|               Haiti|    146|        12|         17|       117|\n",
      "|                Togo|    145|        10|         85|        50|\n",
      "|Central African R...|    143|         0|         10|       133|\n",
      "|              Brunei|    141|         1|        132|         8|\n",
      "|            Cambodia|    122|         0|        120|         2|\n",
      "|         South Sudan|    120|         0|          2|       118|\n",
      "| Trinidad and Tobago|    116|         8|        103|         5|\n",
      "|               Nepal|    102|         0|         31|        71|\n",
      "|              Uganda|    101|         0|         55|        46|\n",
      "|              Monaco|     95|         4|         82|         9|\n",
      "|              Guyana|     94|        10|         35|        49|\n",
      "|             Bahamas|     92|        11|         31|        50|\n",
      "|            Barbados|     83|         7|         53|        23|\n",
      "|       Liechtenstein|     82|         1|         55|        26|\n",
      "|          Mozambique|     82|         0|         27|        55|\n",
      "|               Libya|     64|         3|         24|        37|\n",
      "|               Syria|     47|         3|         29|        15|\n",
      "|              Malawi|     43|         3|         14|        26|\n",
      "|              Angola|     43|         2|         11|        30|\n",
      "|            Mongolia|     42|         0|         13|        29|\n",
      "|             Eritrea|     39|         0|         37|         2|\n",
      "|               Yemen|     34|         7|          1|        26|\n",
      "|            Zimbabwe|     34|         4|          9|        21|\n",
      "| Antigua and Barbuda|     25|         3|         16|         6|\n",
      "|         Timor-Leste|     24|         0|         21|         3|\n",
      "|            Botswana|     23|         1|          9|        13|\n",
      "|             Grenada|     21|         0|         13|         8|\n",
      "|              Gambia|     20|         1|          9|        10|\n",
      "|                Laos|     19|         0|          9|        10|\n",
      "|                Fiji|     18|         0|         14|         4|\n",
      "|         Saint Lucia|     18|         0|         17|         1|\n",
      "|              Belize|     18|         2|         16|         0|\n",
      "|Saint Vincent and...|     17|         0|          9|         8|\n",
      "|            Dominica|     16|         0|         14|         2|\n",
      "|           Nicaragua|     16|         5|          7|         4|\n",
      "|             Namibia|     16|         0|          9|         7|\n",
      "|             Burundi|     15|         1|          7|         7|\n",
      "|Saint Kitts and N...|     15|         0|         13|         2|\n",
      "|            Holy See|     12|         0|          2|        10|\n",
      "|          Seychelles|     11|         0|          8|         3|\n",
      "|            Suriname|     10|         1|          9|         0|\n",
      "|          MS Zaandam|      9|         2|          0|         7|\n",
      "|             Comoros|      8|         1|          0|         7|\n",
      "|          Mauritania|      8|         1|          6|         1|\n",
      "|    Papua New Guinea|      8|         0|          8|         0|\n",
      "|              Bhutan|      7|         0|          5|         2|\n",
      "|      Western Sahara|      6|         0|          5|         1|\n",
      "+--------------------+-------+----------+-----------+----------+"
     ]
    }
   ],
   "source": [
    "# Agrego una nueva columna 'Infectados'\n",
    "# Infectados: son los pacientes que aun siguen con el virus (no se han recuperado o fallecido)\n",
    "\n",
    "diff_secs_col = F.col(\"Casos\") - F.col(\"Fallecidos\") - F.col(\"Recuperados\")\n",
    "df = df.withColumn( \"Infectados\", diff_secs_col  )\n",
    "df.show(187)"
   ]
  },
  {
   "cell_type": "code",
   "execution_count": 145,
   "metadata": {},
   "outputs": [
    {
     "data": {
      "application/vnd.jupyter.widget-view+json": {
       "model_id": "f3d49fe8f9114822a516d4d22df05ec9",
       "version_major": 2,
       "version_minor": 0
      },
      "text/plain": [
       "VBox()"
      ]
     },
     "metadata": {},
     "output_type": "display_data"
    },
    {
     "data": {
      "application/vnd.jupyter.widget-view+json": {
       "model_id": "",
       "version_major": 2,
       "version_minor": 0
      },
      "text/plain": [
       "FloatProgress(value=0.0, bar_style='info', description='Progress:', layout=Layout(height='25px', width='50%'),…"
      ]
     },
     "metadata": {},
     "output_type": "display_data"
    }
   ],
   "source": [
    "############## Grabo los resultados en mi bucket de S3 #####################\n",
    "# Direccion del bucket\n",
    "write_uri='s3://trabajo3-dataset/procesado/global'\n",
    "# Almacenamiento del dataFrame como un archivo csv\n",
    "df.coalesce(1).write.format(\"csv\").option(\"header\",\"true\").save(write_uri)"
   ]
  }
 ],
 "metadata": {
  "kernelspec": {
   "display_name": "PySpark",
   "language": "",
   "name": "pysparkkernel"
  },
  "language_info": {
   "codemirror_mode": {
    "name": "python",
    "version": 2
   },
   "mimetype": "text/x-python",
   "name": "pyspark",
   "pygments_lexer": "python2"
  }
 },
 "nbformat": 4,
 "nbformat_minor": 4
}
